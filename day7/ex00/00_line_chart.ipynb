{
 "cells": [
  {
   "cell_type": "code",
   "id": "d2980808-d328-4673-8f8c-588d7ef0cedb",
   "metadata": {
    "ExecuteTime": {
     "end_time": "2025-04-17T11:35:44.090416Z",
     "start_time": "2025-04-17T11:35:42.520147Z"
    }
   },
   "source": [
    "import pandas as pd\n",
    "import sqlite3"
   ],
   "outputs": [],
   "execution_count": 1
  },
  {
   "cell_type": "markdown",
   "id": "c55cbd8d-11fd-4a70-b099-58f217acc679",
   "metadata": {},
   "source": [
    "## 1. Make a connection to the database (it is the same as the previous day)"
   ]
  },
  {
   "cell_type": "code",
   "id": "566eb548-a7a5-4a80-b327-2c6a947556db",
   "metadata": {
    "ExecuteTime": {
     "end_time": "2025-04-17T11:35:44.117415Z",
     "start_time": "2025-04-17T11:35:44.105417Z"
    }
   },
   "source": "con = sqlite3.connect('../data/checking-logs.sqlite')",
   "outputs": [],
   "execution_count": 2
  },
  {
   "cell_type": "markdown",
   "id": "0ef3d8c0-a21c-4007-a1f9-5fcde40bdc1d",
   "metadata": {},
   "source": [
    "## 2. Run a query that gets the datetime from the pageviews table, selecting only the users and not the admins"
   ]
  },
  {
   "cell_type": "code",
   "id": "f355751a-64b5-4697-aa2c-dd361b519d58",
   "metadata": {
    "ExecuteTime": {
     "end_time": "2025-04-17T11:35:44.436828Z",
     "start_time": "2025-04-17T11:35:44.415089Z"
    }
   },
   "source": [
    "pd.read_sql('SELECT * FROM pageviews LIMIT 7;', con)"
   ],
   "outputs": [
    {
     "data": {
      "text/plain": [
       "   index      uid                    datetime\n",
       "0      0  admin_1  2020-04-17 12:01:08.463179\n",
       "1      1  admin_1  2020-04-17 12:01:23.743946\n",
       "2      2  admin_3  2020-04-17 12:17:39.287778\n",
       "3      3  admin_3  2020-04-17 12:17:40.001768\n",
       "4      4  admin_1  2020-04-17 12:27:30.646665\n",
       "5      5  admin_1  2020-04-17 12:35:44.884757\n",
       "6      6  admin_1  2020-04-17 12:35:52.735016"
      ],
      "text/html": [
       "<div>\n",
       "<style scoped>\n",
       "    .dataframe tbody tr th:only-of-type {\n",
       "        vertical-align: middle;\n",
       "    }\n",
       "\n",
       "    .dataframe tbody tr th {\n",
       "        vertical-align: top;\n",
       "    }\n",
       "\n",
       "    .dataframe thead th {\n",
       "        text-align: right;\n",
       "    }\n",
       "</style>\n",
       "<table border=\"1\" class=\"dataframe\">\n",
       "  <thead>\n",
       "    <tr style=\"text-align: right;\">\n",
       "      <th></th>\n",
       "      <th>index</th>\n",
       "      <th>uid</th>\n",
       "      <th>datetime</th>\n",
       "    </tr>\n",
       "  </thead>\n",
       "  <tbody>\n",
       "    <tr>\n",
       "      <th>0</th>\n",
       "      <td>0</td>\n",
       "      <td>admin_1</td>\n",
       "      <td>2020-04-17 12:01:08.463179</td>\n",
       "    </tr>\n",
       "    <tr>\n",
       "      <th>1</th>\n",
       "      <td>1</td>\n",
       "      <td>admin_1</td>\n",
       "      <td>2020-04-17 12:01:23.743946</td>\n",
       "    </tr>\n",
       "    <tr>\n",
       "      <th>2</th>\n",
       "      <td>2</td>\n",
       "      <td>admin_3</td>\n",
       "      <td>2020-04-17 12:17:39.287778</td>\n",
       "    </tr>\n",
       "    <tr>\n",
       "      <th>3</th>\n",
       "      <td>3</td>\n",
       "      <td>admin_3</td>\n",
       "      <td>2020-04-17 12:17:40.001768</td>\n",
       "    </tr>\n",
       "    <tr>\n",
       "      <th>4</th>\n",
       "      <td>4</td>\n",
       "      <td>admin_1</td>\n",
       "      <td>2020-04-17 12:27:30.646665</td>\n",
       "    </tr>\n",
       "    <tr>\n",
       "      <th>5</th>\n",
       "      <td>5</td>\n",
       "      <td>admin_1</td>\n",
       "      <td>2020-04-17 12:35:44.884757</td>\n",
       "    </tr>\n",
       "    <tr>\n",
       "      <th>6</th>\n",
       "      <td>6</td>\n",
       "      <td>admin_1</td>\n",
       "      <td>2020-04-17 12:35:52.735016</td>\n",
       "    </tr>\n",
       "  </tbody>\n",
       "</table>\n",
       "</div>"
      ]
     },
     "execution_count": 3,
     "metadata": {},
     "output_type": "execute_result"
    }
   ],
   "execution_count": 3
  },
  {
   "cell_type": "code",
   "id": "90b5659f-73a0-4723-b435-03a9e5b82ee7",
   "metadata": {
    "ExecuteTime": {
     "end_time": "2025-04-17T11:35:44.452856Z",
     "start_time": "2025-04-17T11:35:44.448775Z"
    }
   },
   "source": [
    "query_datetime = \"\"\"\n",
    "SELECT datetime\n",
    "FROM pageviews\n",
    "WHERE uid NOT LIKE 'admin_%'\n",
    "\"\"\"    "
   ],
   "outputs": [],
   "execution_count": 4
  },
  {
   "cell_type": "code",
   "id": "c4272d5f-37dc-4357-bb4c-a800697cd193",
   "metadata": {
    "ExecuteTime": {
     "end_time": "2025-04-17T11:35:44.484502Z",
     "start_time": "2025-04-17T11:35:44.473850Z"
    }
   },
   "source": [
    "pd.read_sql(query_datetime, con)"
   ],
   "outputs": [
    {
     "data": {
      "text/plain": [
       "                       datetime\n",
       "0    2020-04-17 22:46:26.785035\n",
       "1    2020-04-18 10:53:52.623447\n",
       "2    2020-04-18 10:56:55.833899\n",
       "3    2020-04-18 10:57:37.331258\n",
       "4    2020-04-18 12:05:48.200144\n",
       "..                          ...\n",
       "982  2020-05-21 18:45:20.441142\n",
       "983  2020-05-21 23:03:06.457819\n",
       "984  2020-05-21 23:23:49.995349\n",
       "985  2020-05-22 11:30:18.368990\n",
       "986  2020-05-22 18:22:22.847815\n",
       "\n",
       "[987 rows x 1 columns]"
      ],
      "text/html": [
       "<div>\n",
       "<style scoped>\n",
       "    .dataframe tbody tr th:only-of-type {\n",
       "        vertical-align: middle;\n",
       "    }\n",
       "\n",
       "    .dataframe tbody tr th {\n",
       "        vertical-align: top;\n",
       "    }\n",
       "\n",
       "    .dataframe thead th {\n",
       "        text-align: right;\n",
       "    }\n",
       "</style>\n",
       "<table border=\"1\" class=\"dataframe\">\n",
       "  <thead>\n",
       "    <tr style=\"text-align: right;\">\n",
       "      <th></th>\n",
       "      <th>datetime</th>\n",
       "    </tr>\n",
       "  </thead>\n",
       "  <tbody>\n",
       "    <tr>\n",
       "      <th>0</th>\n",
       "      <td>2020-04-17 22:46:26.785035</td>\n",
       "    </tr>\n",
       "    <tr>\n",
       "      <th>1</th>\n",
       "      <td>2020-04-18 10:53:52.623447</td>\n",
       "    </tr>\n",
       "    <tr>\n",
       "      <th>2</th>\n",
       "      <td>2020-04-18 10:56:55.833899</td>\n",
       "    </tr>\n",
       "    <tr>\n",
       "      <th>3</th>\n",
       "      <td>2020-04-18 10:57:37.331258</td>\n",
       "    </tr>\n",
       "    <tr>\n",
       "      <th>4</th>\n",
       "      <td>2020-04-18 12:05:48.200144</td>\n",
       "    </tr>\n",
       "    <tr>\n",
       "      <th>...</th>\n",
       "      <td>...</td>\n",
       "    </tr>\n",
       "    <tr>\n",
       "      <th>982</th>\n",
       "      <td>2020-05-21 18:45:20.441142</td>\n",
       "    </tr>\n",
       "    <tr>\n",
       "      <th>983</th>\n",
       "      <td>2020-05-21 23:03:06.457819</td>\n",
       "    </tr>\n",
       "    <tr>\n",
       "      <th>984</th>\n",
       "      <td>2020-05-21 23:23:49.995349</td>\n",
       "    </tr>\n",
       "    <tr>\n",
       "      <th>985</th>\n",
       "      <td>2020-05-22 11:30:18.368990</td>\n",
       "    </tr>\n",
       "    <tr>\n",
       "      <th>986</th>\n",
       "      <td>2020-05-22 18:22:22.847815</td>\n",
       "    </tr>\n",
       "  </tbody>\n",
       "</table>\n",
       "<p>987 rows × 1 columns</p>\n",
       "</div>"
      ]
     },
     "execution_count": 5,
     "metadata": {},
     "output_type": "execute_result"
    }
   ],
   "execution_count": 5
  },
  {
   "metadata": {},
   "cell_type": "markdown",
   "source": "## 3. Using Pandas, create a new dataframe where the visits are counted and grouped by date",
   "id": "56d41beaed31c1fa"
  },
  {
   "cell_type": "code",
   "id": "bd7d2977-c048-4607-b2a2-244c4288c19c",
   "metadata": {
    "ExecuteTime": {
     "end_time": "2025-04-17T11:35:44.537650Z",
     "start_time": "2025-04-17T11:35:44.525649Z"
    }
   },
   "source": [
    "query_visits_counts = \"\"\"\n",
    "SELECT \n",
    "    date(datetime) AS date,\n",
    "    COUNT(*) AS visits\n",
    "FROM pageviews\n",
    "WHERE uid NOT LIKE 'admin_%'\n",
    "GROUP BY date\n",
    "\"\"\""
   ],
   "outputs": [],
   "execution_count": 6
  },
  {
   "cell_type": "code",
   "id": "0d61fec6-d0e2-4cf1-9363-8d854c112636",
   "metadata": {
    "ExecuteTime": {
     "end_time": "2025-04-17T11:35:44.666861Z",
     "start_time": "2025-04-17T11:35:44.653332Z"
    }
   },
   "source": [
    "df_visits = pd.read_sql(query_visits_counts, con, index_col='date')\n",
    "display(df_visits)\n",
    "display(df_visits.shape)"
   ],
   "outputs": [
    {
     "data": {
      "text/plain": [
       "            visits\n",
       "date              \n",
       "2020-04-17       1\n",
       "2020-04-18      23\n",
       "2020-04-19      15\n",
       "2020-04-21       3\n",
       "2020-04-22       1\n",
       "2020-04-23       5\n",
       "2020-04-25       1\n",
       "2020-04-26       8\n",
       "2020-04-28       2\n",
       "2020-04-29       4\n",
       "2020-04-30       9\n",
       "2020-05-01       3\n",
       "2020-05-02       6\n",
       "2020-05-03      19\n",
       "2020-05-04       1\n",
       "2020-05-05       1\n",
       "2020-05-06       3\n",
       "2020-05-07       2\n",
       "2020-05-08      48\n",
       "2020-05-09      19\n",
       "2020-05-10     110\n",
       "2020-05-11     200\n",
       "2020-05-12      85\n",
       "2020-05-13     102\n",
       "2020-05-14     187\n",
       "2020-05-15      29\n",
       "2020-05-16       4\n",
       "2020-05-17       9\n",
       "2020-05-18      51\n",
       "2020-05-19      11\n",
       "2020-05-20      12\n",
       "2020-05-21      11\n",
       "2020-05-22       2"
      ],
      "text/html": [
       "<div>\n",
       "<style scoped>\n",
       "    .dataframe tbody tr th:only-of-type {\n",
       "        vertical-align: middle;\n",
       "    }\n",
       "\n",
       "    .dataframe tbody tr th {\n",
       "        vertical-align: top;\n",
       "    }\n",
       "\n",
       "    .dataframe thead th {\n",
       "        text-align: right;\n",
       "    }\n",
       "</style>\n",
       "<table border=\"1\" class=\"dataframe\">\n",
       "  <thead>\n",
       "    <tr style=\"text-align: right;\">\n",
       "      <th></th>\n",
       "      <th>visits</th>\n",
       "    </tr>\n",
       "    <tr>\n",
       "      <th>date</th>\n",
       "      <th></th>\n",
       "    </tr>\n",
       "  </thead>\n",
       "  <tbody>\n",
       "    <tr>\n",
       "      <th>2020-04-17</th>\n",
       "      <td>1</td>\n",
       "    </tr>\n",
       "    <tr>\n",
       "      <th>2020-04-18</th>\n",
       "      <td>23</td>\n",
       "    </tr>\n",
       "    <tr>\n",
       "      <th>2020-04-19</th>\n",
       "      <td>15</td>\n",
       "    </tr>\n",
       "    <tr>\n",
       "      <th>2020-04-21</th>\n",
       "      <td>3</td>\n",
       "    </tr>\n",
       "    <tr>\n",
       "      <th>2020-04-22</th>\n",
       "      <td>1</td>\n",
       "    </tr>\n",
       "    <tr>\n",
       "      <th>2020-04-23</th>\n",
       "      <td>5</td>\n",
       "    </tr>\n",
       "    <tr>\n",
       "      <th>2020-04-25</th>\n",
       "      <td>1</td>\n",
       "    </tr>\n",
       "    <tr>\n",
       "      <th>2020-04-26</th>\n",
       "      <td>8</td>\n",
       "    </tr>\n",
       "    <tr>\n",
       "      <th>2020-04-28</th>\n",
       "      <td>2</td>\n",
       "    </tr>\n",
       "    <tr>\n",
       "      <th>2020-04-29</th>\n",
       "      <td>4</td>\n",
       "    </tr>\n",
       "    <tr>\n",
       "      <th>2020-04-30</th>\n",
       "      <td>9</td>\n",
       "    </tr>\n",
       "    <tr>\n",
       "      <th>2020-05-01</th>\n",
       "      <td>3</td>\n",
       "    </tr>\n",
       "    <tr>\n",
       "      <th>2020-05-02</th>\n",
       "      <td>6</td>\n",
       "    </tr>\n",
       "    <tr>\n",
       "      <th>2020-05-03</th>\n",
       "      <td>19</td>\n",
       "    </tr>\n",
       "    <tr>\n",
       "      <th>2020-05-04</th>\n",
       "      <td>1</td>\n",
       "    </tr>\n",
       "    <tr>\n",
       "      <th>2020-05-05</th>\n",
       "      <td>1</td>\n",
       "    </tr>\n",
       "    <tr>\n",
       "      <th>2020-05-06</th>\n",
       "      <td>3</td>\n",
       "    </tr>\n",
       "    <tr>\n",
       "      <th>2020-05-07</th>\n",
       "      <td>2</td>\n",
       "    </tr>\n",
       "    <tr>\n",
       "      <th>2020-05-08</th>\n",
       "      <td>48</td>\n",
       "    </tr>\n",
       "    <tr>\n",
       "      <th>2020-05-09</th>\n",
       "      <td>19</td>\n",
       "    </tr>\n",
       "    <tr>\n",
       "      <th>2020-05-10</th>\n",
       "      <td>110</td>\n",
       "    </tr>\n",
       "    <tr>\n",
       "      <th>2020-05-11</th>\n",
       "      <td>200</td>\n",
       "    </tr>\n",
       "    <tr>\n",
       "      <th>2020-05-12</th>\n",
       "      <td>85</td>\n",
       "    </tr>\n",
       "    <tr>\n",
       "      <th>2020-05-13</th>\n",
       "      <td>102</td>\n",
       "    </tr>\n",
       "    <tr>\n",
       "      <th>2020-05-14</th>\n",
       "      <td>187</td>\n",
       "    </tr>\n",
       "    <tr>\n",
       "      <th>2020-05-15</th>\n",
       "      <td>29</td>\n",
       "    </tr>\n",
       "    <tr>\n",
       "      <th>2020-05-16</th>\n",
       "      <td>4</td>\n",
       "    </tr>\n",
       "    <tr>\n",
       "      <th>2020-05-17</th>\n",
       "      <td>9</td>\n",
       "    </tr>\n",
       "    <tr>\n",
       "      <th>2020-05-18</th>\n",
       "      <td>51</td>\n",
       "    </tr>\n",
       "    <tr>\n",
       "      <th>2020-05-19</th>\n",
       "      <td>11</td>\n",
       "    </tr>\n",
       "    <tr>\n",
       "      <th>2020-05-20</th>\n",
       "      <td>12</td>\n",
       "    </tr>\n",
       "    <tr>\n",
       "      <th>2020-05-21</th>\n",
       "      <td>11</td>\n",
       "    </tr>\n",
       "    <tr>\n",
       "      <th>2020-05-22</th>\n",
       "      <td>2</td>\n",
       "    </tr>\n",
       "  </tbody>\n",
       "</table>\n",
       "</div>"
      ]
     },
     "metadata": {},
     "output_type": "display_data"
    },
    {
     "data": {
      "text/plain": [
       "(33, 1)"
      ]
     },
     "metadata": {},
     "output_type": "display_data"
    }
   ],
   "execution_count": 7
  },
  {
   "metadata": {},
   "cell_type": "markdown",
   "source": "## 4. Using Pandas method .plot(), create a graph",
   "id": "c95a3e6c8f5b7c02"
  },
  {
   "metadata": {
    "ExecuteTime": {
     "end_time": "2025-04-17T11:35:46.970807Z",
     "start_time": "2025-04-17T11:35:44.784109Z"
    }
   },
   "cell_type": "code",
   "source": "df_visits.plot(title='Views per day', fontsize=8, figsize=(15,8), rot=90)",
   "id": "dbbdef85f5a69b0",
   "outputs": [
    {
     "data": {
      "text/plain": [
       "<Axes: title={'center': 'Views per day'}, xlabel='date'>"
      ]
     },
     "execution_count": 8,
     "metadata": {},
     "output_type": "execute_result"
    },
    {
     "data": {
      "text/plain": [
       "<Figure size 1500x800 with 1 Axes>"
      ],
      "image/png": "[encoded data removed]"
     },
     "metadata": {},
     "output_type": "display_data"
    }
   ],
   "execution_count": 8
  },
  {
   "metadata": {
    "ExecuteTime": {
     "end_time": "2025-04-17T11:35:47.010448Z",
     "start_time": "2025-04-17T11:35:47.005215Z"
    }
   },
   "cell_type": "code",
   "source": "con.close()",
   "id": "7d14883795385869",
   "outputs": [],
   "execution_count": 9
  }
 ],
 "metadata": {
  "kernelspec": {
   "display_name": "Python 3 (ipykernel)",
   "language": "python",
   "name": "python3"
  },
  "language_info": {
   "codemirror_mode": {
    "name": "ipython",
    "version": 3
   },
   "file_extension": ".py",
   "mimetype": "text/x-python",
   "name": "python",
   "nbconvert_exporter": "python",
   "pygments_lexer": "ipython3",
   "version": "3.12.4"
  }
 },
 "nbformat": 4,
 "nbformat_minor": 5
}
