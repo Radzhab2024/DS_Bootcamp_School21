{
 "cells": [
  {
   "cell_type": "code",
   "execution_count": 1,
   "id": "0a9d6729-27df-42f7-809d-7b3278b2cc08",
   "metadata": {},
   "outputs": [],
   "source": [
    "import pandas as pd"
   ]
  },
  {
   "cell_type": "markdown",
   "id": "2926c87e-d2f5-49b1-8175-cbf6ce5ec5df",
   "metadata": {},
   "source": [
    "## 1. Читаем файл fines.csv из предыдущего задания."
   ]
  },
  {
   "cell_type": "code",
   "execution_count": 2,
   "id": "a036b459-ff5f-451b-b957-dfbe75f0780e",
   "metadata": {},
   "outputs": [
    {
     "data": {
      "text/html": [
       "<div>\n",
       "<style scoped>\n",
       "    .dataframe tbody tr th:only-of-type {\n",
       "        vertical-align: middle;\n",
       "    }\n",
       "\n",
       "    .dataframe tbody tr th {\n",
       "        vertical-align: top;\n",
       "    }\n",
       "\n",
       "    .dataframe thead th {\n",
       "        text-align: right;\n",
       "    }\n",
       "</style>\n",
       "<table border=\"1\" class=\"dataframe\">\n",
       "  <thead>\n",
       "    <tr style=\"text-align: right;\">\n",
       "      <th></th>\n",
       "      <th>CarNumber</th>\n",
       "      <th>Refund</th>\n",
       "      <th>Fines</th>\n",
       "      <th>Make</th>\n",
       "      <th>Model</th>\n",
       "      <th>Year</th>\n",
       "    </tr>\n",
       "  </thead>\n",
       "  <tbody>\n",
       "    <tr>\n",
       "      <th>0</th>\n",
       "      <td>Y163O8161RUS</td>\n",
       "      <td>2</td>\n",
       "      <td>3200.0</td>\n",
       "      <td>Ford</td>\n",
       "      <td>Focus</td>\n",
       "      <td>1989.0</td>\n",
       "    </tr>\n",
       "    <tr>\n",
       "      <th>1</th>\n",
       "      <td>E432XX77RUS</td>\n",
       "      <td>1</td>\n",
       "      <td>6500.0</td>\n",
       "      <td>Toyota</td>\n",
       "      <td>Camry</td>\n",
       "      <td>1995.0</td>\n",
       "    </tr>\n",
       "    <tr>\n",
       "      <th>2</th>\n",
       "      <td>7184TT36RUS</td>\n",
       "      <td>1</td>\n",
       "      <td>2100.0</td>\n",
       "      <td>Ford</td>\n",
       "      <td>Focus</td>\n",
       "      <td>1984.0</td>\n",
       "    </tr>\n",
       "    <tr>\n",
       "      <th>3</th>\n",
       "      <td>X582HE161RUS</td>\n",
       "      <td>2</td>\n",
       "      <td>2000.0</td>\n",
       "      <td>Ford</td>\n",
       "      <td>Focus</td>\n",
       "      <td>2015.0</td>\n",
       "    </tr>\n",
       "    <tr>\n",
       "      <th>4</th>\n",
       "      <td>92918M178RUS</td>\n",
       "      <td>1</td>\n",
       "      <td>5700.0</td>\n",
       "      <td>Ford</td>\n",
       "      <td>Focus</td>\n",
       "      <td>2014.0</td>\n",
       "    </tr>\n",
       "    <tr>\n",
       "      <th>...</th>\n",
       "      <td>...</td>\n",
       "      <td>...</td>\n",
       "      <td>...</td>\n",
       "      <td>...</td>\n",
       "      <td>...</td>\n",
       "      <td>...</td>\n",
       "    </tr>\n",
       "    <tr>\n",
       "      <th>925</th>\n",
       "      <td>A123BC77RUS</td>\n",
       "      <td>1</td>\n",
       "      <td>5000.0</td>\n",
       "      <td>Toyota</td>\n",
       "      <td>Camry</td>\n",
       "      <td>2002.0</td>\n",
       "    </tr>\n",
       "    <tr>\n",
       "      <th>926</th>\n",
       "      <td>B456ME99RUS</td>\n",
       "      <td>2</td>\n",
       "      <td>750.0</td>\n",
       "      <td>Ford</td>\n",
       "      <td>Focus</td>\n",
       "      <td>2005.0</td>\n",
       "    </tr>\n",
       "    <tr>\n",
       "      <th>927</th>\n",
       "      <td>C789TM55RUS</td>\n",
       "      <td>1</td>\n",
       "      <td>3200.0</td>\n",
       "      <td>BMW</td>\n",
       "      <td>X5</td>\n",
       "      <td>1999.0</td>\n",
       "    </tr>\n",
       "    <tr>\n",
       "      <th>928</th>\n",
       "      <td>P012HC33RUS</td>\n",
       "      <td>2</td>\n",
       "      <td>1500.0</td>\n",
       "      <td>Hyundai</td>\n",
       "      <td>Solaris</td>\n",
       "      <td>2021.0</td>\n",
       "    </tr>\n",
       "    <tr>\n",
       "      <th>929</th>\n",
       "      <td>E345KX11RUS</td>\n",
       "      <td>1</td>\n",
       "      <td>2200.0</td>\n",
       "      <td>Kia</td>\n",
       "      <td>Rio</td>\n",
       "      <td>2014.0</td>\n",
       "    </tr>\n",
       "  </tbody>\n",
       "</table>\n",
       "<p>930 rows × 6 columns</p>\n",
       "</div>"
      ],
      "text/plain": [
       "        CarNumber  Refund   Fines     Make    Model    Year\n",
       "0    Y163O8161RUS       2  3200.0     Ford    Focus  1989.0\n",
       "1     E432XX77RUS       1  6500.0   Toyota    Camry  1995.0\n",
       "2     7184TT36RUS       1  2100.0     Ford    Focus  1984.0\n",
       "3    X582HE161RUS       2  2000.0     Ford    Focus  2015.0\n",
       "4    92918M178RUS       1  5700.0     Ford    Focus  2014.0\n",
       "..            ...     ...     ...      ...      ...     ...\n",
       "925   A123BC77RUS       1  5000.0   Toyota    Camry  2002.0\n",
       "926   B456ME99RUS       2   750.0     Ford    Focus  2005.0\n",
       "927   C789TM55RUS       1  3200.0      BMW       X5  1999.0\n",
       "928   P012HC33RUS       2  1500.0  Hyundai  Solaris  2021.0\n",
       "929   E345KX11RUS       1  2200.0      Kia      Rio  2014.0\n",
       "\n",
       "[930 rows x 6 columns]"
      ]
     },
     "execution_count": 2,
     "metadata": {},
     "output_type": "execute_result"
    }
   ],
   "source": [
    "data = pd.read_csv('../ex04/fines.csv')\n",
    "data"
   ]
  },
  {
   "cell_type": "markdown",
   "id": "473c78ce-be3c-4e69-9713-855974bf5ef1",
   "metadata": {},
   "source": [
    "## 2. Итерации."
   ]
  },
  {
   "cell_type": "code",
   "execution_count": 3,
   "id": "959fdeaa-8496-4a19-85a7-e2a01b6924e1",
   "metadata": {},
   "outputs": [],
   "source": [
    "def calculation(fines, refund, year):\n",
    "    return (fines/refund)*year"
   ]
  },
  {
   "cell_type": "code",
   "execution_count": 4,
   "id": "df5bb54b-03e3-452b-953a-ec1893c8ac2c",
   "metadata": {},
   "outputs": [
    {
     "name": "stdout",
     "output_type": "stream",
     "text": [
      "112 ms ± 12.9 ms per loop (mean ± std. dev. of 7 runs, 10 loops each)\n"
     ]
    }
   ],
   "source": [
    "%%timeit\n",
    "def calculated_data_loop(data):\n",
    "    result = []\n",
    "    for i in range(len(data)):\n",
    "        fines = data.iloc[i]['Fines']\n",
    "        refund = data.iloc[i]['Refund']\n",
    "        year = data.iloc[i]['Year']\n",
    "        value = calculation(fines, refund, year)\n",
    "        result.append(value)\n",
    "    data['CalcLoop'] = result\n",
    "df_copy = data.copy()\n",
    "calculated_data_loop(df_copy)"
   ]
  },
  {
   "cell_type": "code",
   "execution_count": 5,
   "id": "26d7475d-872d-4a74-b5dd-7e31c9b00a7c",
   "metadata": {},
   "outputs": [
    {
     "name": "stdout",
     "output_type": "stream",
     "text": [
      "40 ms ± 7.18 ms per loop (mean ± std. dev. of 7 runs, 10 loops each)\n"
     ]
    }
   ],
   "source": [
    "%%timeit\n",
    "def calculated_data_iterrows(data):\n",
    "    result = []\n",
    "    for _, row in data.iterrows():\n",
    "        fines = row['Fines']\n",
    "        refund = row['Refund']\n",
    "        year = row['Year']\n",
    "        value = calculation(fines, refund, year)\n",
    "        result.append(value)\n",
    "    data['CalcIterrows'] = result\n",
    "df_copy = data.copy()\n",
    "calculated_data_iterrows(df_copy)    "
   ]
  },
  {
   "cell_type": "code",
   "execution_count": 6,
   "id": "74f5a56d-7b6c-48c6-b492-c8c215210878",
   "metadata": {},
   "outputs": [
    {
     "name": "stdout",
     "output_type": "stream",
     "text": [
      "7.9 ms ± 2.93 ms per loop (mean ± std. dev. of 7 runs, 100 loops each)\n"
     ]
    }
   ],
   "source": [
    "%%timeit\n",
    "df_copy = data.copy()\n",
    "data['CalcApply'] = df_copy.apply(lambda row: row['Fines'] / row['Refund'] * row['Year'], axis=1)"
   ]
  },
  {
   "cell_type": "code",
   "execution_count": 7,
   "id": "ef52f7b9-05d6-4136-924c-f0d1692a4d09",
   "metadata": {},
   "outputs": [
    {
     "name": "stdout",
     "output_type": "stream",
     "text": [
      "197 μs ± 26.9 μs per loop (mean ± std. dev. of 7 runs, 10,000 loops each)\n"
     ]
    }
   ],
   "source": [
    "%%timeit\n",
    "data['CalcSeries'] = (data['Fines'] / data['Refund']) * data['Year']"
   ]
  },
  {
   "cell_type": "code",
   "execution_count": 8,
   "id": "39c452d3-f382-4c8a-9b4e-c00d125dd436",
   "metadata": {},
   "outputs": [
    {
     "name": "stdout",
     "output_type": "stream",
     "text": [
      "82.6 μs ± 15 μs per loop (mean ± std. dev. of 7 runs, 10,000 loops each)\n"
     ]
    }
   ],
   "source": [
    "%%timeit\n",
    "fines = data['Fines'].values\n",
    "refund = data['Refund'].values\n",
    "year = data['Year'].values\n",
    "data['CalcValues'] = (fines / refund) * year"
   ]
  },
  {
   "cell_type": "code",
   "execution_count": 9,
   "id": "e2c859f5-9c91-4ba9-89db-7337c7a1c27f",
   "metadata": {},
   "outputs": [
    {
     "data": {
      "text/html": [
       "<div>\n",
       "<style scoped>\n",
       "    .dataframe tbody tr th:only-of-type {\n",
       "        vertical-align: middle;\n",
       "    }\n",
       "\n",
       "    .dataframe tbody tr th {\n",
       "        vertical-align: top;\n",
       "    }\n",
       "\n",
       "    .dataframe thead th {\n",
       "        text-align: right;\n",
       "    }\n",
       "</style>\n",
       "<table border=\"1\" class=\"dataframe\">\n",
       "  <thead>\n",
       "    <tr style=\"text-align: right;\">\n",
       "      <th></th>\n",
       "      <th>CarNumber</th>\n",
       "      <th>Refund</th>\n",
       "      <th>Fines</th>\n",
       "      <th>Make</th>\n",
       "      <th>Model</th>\n",
       "      <th>Year</th>\n",
       "      <th>CalcApply</th>\n",
       "      <th>CalcSeries</th>\n",
       "      <th>CalcValues</th>\n",
       "    </tr>\n",
       "  </thead>\n",
       "  <tbody>\n",
       "    <tr>\n",
       "      <th>0</th>\n",
       "      <td>Y163O8161RUS</td>\n",
       "      <td>2</td>\n",
       "      <td>3200.0</td>\n",
       "      <td>Ford</td>\n",
       "      <td>Focus</td>\n",
       "      <td>1989.0</td>\n",
       "      <td>3182400.0</td>\n",
       "      <td>3182400.0</td>\n",
       "      <td>3182400.0</td>\n",
       "    </tr>\n",
       "    <tr>\n",
       "      <th>1</th>\n",
       "      <td>E432XX77RUS</td>\n",
       "      <td>1</td>\n",
       "      <td>6500.0</td>\n",
       "      <td>Toyota</td>\n",
       "      <td>Camry</td>\n",
       "      <td>1995.0</td>\n",
       "      <td>12967500.0</td>\n",
       "      <td>12967500.0</td>\n",
       "      <td>12967500.0</td>\n",
       "    </tr>\n",
       "    <tr>\n",
       "      <th>2</th>\n",
       "      <td>7184TT36RUS</td>\n",
       "      <td>1</td>\n",
       "      <td>2100.0</td>\n",
       "      <td>Ford</td>\n",
       "      <td>Focus</td>\n",
       "      <td>1984.0</td>\n",
       "      <td>4166400.0</td>\n",
       "      <td>4166400.0</td>\n",
       "      <td>4166400.0</td>\n",
       "    </tr>\n",
       "    <tr>\n",
       "      <th>3</th>\n",
       "      <td>X582HE161RUS</td>\n",
       "      <td>2</td>\n",
       "      <td>2000.0</td>\n",
       "      <td>Ford</td>\n",
       "      <td>Focus</td>\n",
       "      <td>2015.0</td>\n",
       "      <td>2015000.0</td>\n",
       "      <td>2015000.0</td>\n",
       "      <td>2015000.0</td>\n",
       "    </tr>\n",
       "    <tr>\n",
       "      <th>4</th>\n",
       "      <td>92918M178RUS</td>\n",
       "      <td>1</td>\n",
       "      <td>5700.0</td>\n",
       "      <td>Ford</td>\n",
       "      <td>Focus</td>\n",
       "      <td>2014.0</td>\n",
       "      <td>11479800.0</td>\n",
       "      <td>11479800.0</td>\n",
       "      <td>11479800.0</td>\n",
       "    </tr>\n",
       "    <tr>\n",
       "      <th>5</th>\n",
       "      <td>H234YH197RUS</td>\n",
       "      <td>2</td>\n",
       "      <td>6000.0</td>\n",
       "      <td>Ford</td>\n",
       "      <td>Focus</td>\n",
       "      <td>1990.0</td>\n",
       "      <td>5970000.0</td>\n",
       "      <td>5970000.0</td>\n",
       "      <td>5970000.0</td>\n",
       "    </tr>\n",
       "  </tbody>\n",
       "</table>\n",
       "</div>"
      ],
      "text/plain": [
       "      CarNumber  Refund   Fines    Make  Model    Year   CalcApply  \\\n",
       "0  Y163O8161RUS       2  3200.0    Ford  Focus  1989.0   3182400.0   \n",
       "1   E432XX77RUS       1  6500.0  Toyota  Camry  1995.0  12967500.0   \n",
       "2   7184TT36RUS       1  2100.0    Ford  Focus  1984.0   4166400.0   \n",
       "3  X582HE161RUS       2  2000.0    Ford  Focus  2015.0   2015000.0   \n",
       "4  92918M178RUS       1  5700.0    Ford  Focus  2014.0  11479800.0   \n",
       "5  H234YH197RUS       2  6000.0    Ford  Focus  1990.0   5970000.0   \n",
       "\n",
       "   CalcSeries  CalcValues  \n",
       "0   3182400.0   3182400.0  \n",
       "1  12967500.0  12967500.0  \n",
       "2   4166400.0   4166400.0  \n",
       "3   2015000.0   2015000.0  \n",
       "4  11479800.0  11479800.0  \n",
       "5   5970000.0   5970000.0  "
      ]
     },
     "execution_count": 9,
     "metadata": {},
     "output_type": "execute_result"
    }
   ],
   "source": [
    "data.head(6)"
   ]
  },
  {
   "cell_type": "markdown",
   "id": "57190426-78e5-4c30-823f-744cf938f1aa",
   "metadata": {},
   "source": [
    "## 3. Индексация. Поиск по значению столбца и по индексу."
   ]
  },
  {
   "cell_type": "code",
   "execution_count": 10,
   "id": "27c91ab7-d7a0-48fd-89e7-a69f7d48ca58",
   "metadata": {},
   "outputs": [
    {
     "name": "stdout",
     "output_type": "stream",
     "text": [
      "276 μs ± 32.7 μs per loop (mean ± std. dev. of 7 runs, 1,000 loops each)\n"
     ]
    }
   ],
   "source": [
    "%%timeit\n",
    "data[data['CarNumber'] == 'B456ME99RUS']"
   ]
  },
  {
   "cell_type": "code",
   "execution_count": 11,
   "id": "50e9c426-ec90-4be0-813d-2d0b006fca99",
   "metadata": {},
   "outputs": [
    {
     "name": "stdout",
     "output_type": "stream",
     "text": [
      "530 μs ± 109 μs per loop (mean ± std. dev. of 7 runs, 1,000 loops each)\n"
     ]
    }
   ],
   "source": [
    "%%timeit\n",
    "data_indexed = data.set_index('CarNumber')\n",
    "data_indexed.loc['B456ME99RUS']"
   ]
  },
  {
   "cell_type": "markdown",
   "id": "c6d5b753-5d4a-4425-bb99-c91a17ac44a8",
   "metadata": {},
   "source": [
    "## 4. Понижение."
   ]
  },
  {
   "cell_type": "code",
   "execution_count": 12,
   "id": "af4f2ef6-7409-44a6-bc3d-1bfc0a46eb7e",
   "metadata": {},
   "outputs": [
    {
     "name": "stdout",
     "output_type": "stream",
     "text": [
      "<class 'pandas.core.frame.DataFrame'>\n",
      "RangeIndex: 930 entries, 0 to 929\n",
      "Data columns (total 9 columns):\n",
      " #   Column      Non-Null Count  Dtype  \n",
      "---  ------      --------------  -----  \n",
      " 0   CarNumber   930 non-null    object \n",
      " 1   Refund      930 non-null    int64  \n",
      " 2   Fines       930 non-null    float64\n",
      " 3   Make        930 non-null    object \n",
      " 4   Model       919 non-null    object \n",
      " 5   Year        930 non-null    float64\n",
      " 6   CalcApply   930 non-null    float64\n",
      " 7   CalcSeries  930 non-null    float64\n",
      " 8   CalcValues  930 non-null    float64\n",
      "dtypes: float64(5), int64(1), object(3)\n",
      "memory usage: 196.7 KB\n"
     ]
    }
   ],
   "source": [
    "data.info(memory_usage='deep')"
   ]
  },
  {
   "cell_type": "code",
   "execution_count": 13,
   "id": "f983b8f0-3c49-49dc-b5d5-266e8164dcfb",
   "metadata": {},
   "outputs": [],
   "source": [
    "optimized = data.copy()"
   ]
  },
  {
   "cell_type": "code",
   "execution_count": 14,
   "id": "5b5cdbc2-f077-45a6-a230-c22a96aac2af",
   "metadata": {},
   "outputs": [],
   "source": [
    "float_cols = optimized.select_dtypes(include=['float64']).columns\n",
    "optimized[float_cols] = optimized[float_cols].astype('float32')"
   ]
  },
  {
   "cell_type": "code",
   "execution_count": 15,
   "id": "c442247b-4582-4922-a04f-b5f2db26d24b",
   "metadata": {},
   "outputs": [],
   "source": [
    "int_cols = optimized.select_dtypes(include=['int64']).columns\n",
    "optimized[int_cols] = optimized[int_cols].apply(pd.to_numeric, downcast='integer')"
   ]
  },
  {
   "cell_type": "code",
   "execution_count": 16,
   "id": "ca48d9da-e619-417d-bb61-fbe8417b91b8",
   "metadata": {},
   "outputs": [
    {
     "name": "stdout",
     "output_type": "stream",
     "text": [
      "<class 'pandas.core.frame.DataFrame'>\n",
      "RangeIndex: 930 entries, 0 to 929\n",
      "Data columns (total 9 columns):\n",
      " #   Column      Non-Null Count  Dtype  \n",
      "---  ------      --------------  -----  \n",
      " 0   CarNumber   930 non-null    object \n",
      " 1   Refund      930 non-null    int8   \n",
      " 2   Fines       930 non-null    float32\n",
      " 3   Make        930 non-null    object \n",
      " 4   Model       919 non-null    object \n",
      " 5   Year        930 non-null    float32\n",
      " 6   CalcApply   930 non-null    float32\n",
      " 7   CalcSeries  930 non-null    float32\n",
      " 8   CalcValues  930 non-null    float32\n",
      "dtypes: float32(5), int8(1), object(3)\n",
      "memory usage: 172.1 KB\n"
     ]
    }
   ],
   "source": [
    "optimized.info(memory_usage='deep')"
   ]
  },
  {
   "cell_type": "markdown",
   "id": "4235a431-984c-4657-bd92-38e8e68e3fe5",
   "metadata": {},
   "source": [
    "## 5. Категории."
   ]
  },
  {
   "cell_type": "code",
   "execution_count": 17,
   "id": "583015a2-2358-46c8-8882-e29f6b489eee",
   "metadata": {},
   "outputs": [
    {
     "name": "stdout",
     "output_type": "stream",
     "text": [
      "<class 'pandas.core.frame.DataFrame'>\n",
      "RangeIndex: 930 entries, 0 to 929\n",
      "Data columns (total 9 columns):\n",
      " #   Column      Non-Null Count  Dtype  \n",
      "---  ------      --------------  -----  \n",
      " 0   CarNumber   930 non-null    object \n",
      " 1   Refund      930 non-null    int64  \n",
      " 2   Fines       930 non-null    float64\n",
      " 3   Make        930 non-null    object \n",
      " 4   Model       919 non-null    object \n",
      " 5   Year        930 non-null    float64\n",
      " 6   CalcApply   930 non-null    float64\n",
      " 7   CalcSeries  930 non-null    float64\n",
      " 8   CalcValues  930 non-null    float64\n",
      "dtypes: float64(5), int64(1), object(3)\n",
      "memory usage: 196.7 KB\n"
     ]
    }
   ],
   "source": [
    "data.info(memory_usage='deep')"
   ]
  },
  {
   "cell_type": "code",
   "execution_count": 18,
   "id": "0c407392-0922-4dbe-80ff-2063e4c981a9",
   "metadata": {},
   "outputs": [],
   "source": [
    "object_cols = data.select_dtypes(include='object').columns\n",
    "data[object_cols] = data[object_cols].astype('category')"
   ]
  },
  {
   "cell_type": "code",
   "execution_count": 19,
   "id": "c3043d44-cfb5-4b55-a37a-aad51ebee970",
   "metadata": {},
   "outputs": [
    {
     "name": "stdout",
     "output_type": "stream",
     "text": [
      "<class 'pandas.core.frame.DataFrame'>\n",
      "RangeIndex: 930 entries, 0 to 929\n",
      "Data columns (total 9 columns):\n",
      " #   Column      Non-Null Count  Dtype   \n",
      "---  ------      --------------  -----   \n",
      " 0   CarNumber   930 non-null    category\n",
      " 1   Refund      930 non-null    int64   \n",
      " 2   Fines       930 non-null    float64 \n",
      " 3   Make        930 non-null    category\n",
      " 4   Model       919 non-null    category\n",
      " 5   Year        930 non-null    float64 \n",
      " 6   CalcApply   930 non-null    float64 \n",
      " 7   CalcSeries  930 non-null    float64 \n",
      " 8   CalcValues  930 non-null    float64 \n",
      "dtypes: category(3), float64(5), int64(1)\n",
      "memory usage: 97.1 KB\n"
     ]
    }
   ],
   "source": [
    "data.info(memory_usage='deep')"
   ]
  },
  {
   "cell_type": "markdown",
   "id": "68257494-415c-4fa8-959a-4d7e68516305",
   "metadata": {},
   "source": [
    "## 6. Очистка памяти."
   ]
  },
  {
   "cell_type": "code",
   "execution_count": 20,
   "id": "10121c28-b4e5-47f4-bdc0-3b21f422e01f",
   "metadata": {},
   "outputs": [],
   "source": [
    "%reset_selective -f data"
   ]
  },
  {
   "cell_type": "code",
   "execution_count": 21,
   "id": "c2883064-ecab-4c06-87b8-204e533d4d23",
   "metadata": {},
   "outputs": [
    {
     "data": {
      "text/plain": [
       "7"
      ]
     },
     "execution_count": 21,
     "metadata": {},
     "output_type": "execute_result"
    }
   ],
   "source": [
    "import gc\n",
    "gc.collect()"
   ]
  }
 ],
 "metadata": {
  "kernelspec": {
   "display_name": "Python 3 (ipykernel)",
   "language": "python",
   "name": "python3"
  },
  "language_info": {
   "codemirror_mode": {
    "name": "ipython",
    "version": 3
   },
   "file_extension": ".py",
   "mimetype": "text/x-python",
   "name": "python",
   "nbconvert_exporter": "python",
   "pygments_lexer": "ipython3",
   "version": "3.12.4"
  }
 },
 "nbformat": 4,
 "nbformat_minor": 5
}
