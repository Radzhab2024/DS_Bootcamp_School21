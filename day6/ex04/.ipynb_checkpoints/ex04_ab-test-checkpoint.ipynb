{
 "cells": [
  {
   "cell_type": "code",
   "execution_count": 1,
   "id": "e998eabf-bad0-47b2-a013-183c22776063",
   "metadata": {},
   "outputs": [],
   "source": [
    "import pandas as pd\n",
    "import sqlite3"
   ]
  },
  {
   "cell_type": "markdown",
   "id": "ac5d84da-4657-40ac-bbf4-354ebb70c00c",
   "metadata": {},
   "source": [
    "## 1. Create a connection to the database using the library sqlite3."
   ]
  },
  {
   "cell_type": "code",
   "execution_count": 2,
   "id": "482296c5-5cb5-4529-b76d-a938b2842145",
   "metadata": {},
   "outputs": [],
   "source": [
    "con = sqlite3.connect('data/checking-logs.sqlite')"
   ]
  },
  {
   "cell_type": "markdown",
   "id": "1de6f8c3-c528-49a7-b77e-11ad81e2b970",
   "metadata": {},
   "source": [
    "## 2. Using only one query for each of the groups, create two dataframes: test_results and control_results with the columns time and avg_diff and only two rows."
   ]
  },
  {
   "cell_type": "code",
   "execution_count": 43,
   "id": "22a0c6b2-4e2e-42a4-87ea-5a3f413cef46",
   "metadata": {},
   "outputs": [],
   "source": [
    "query_test = \"\"\"\n",
    "WITH users_with_both_times AS(\n",
    "    SELECT uid\n",
    "    FROM test t\n",
    "    WHERE t.first_commit_ts < t.first_view_ts\n",
    "        AND t.labname != 'project1'\n",
    "    INTERSECT\n",
    "    SELECT uid\n",
    "    FROM test t\n",
    "    WHERE t.first_commit_ts >= t.first_view_ts\n",
    "        AND t.labname != 'project1'\n",
    ")\n",
    "SELECT\n",
    "    CASE \n",
    "        WHEN t.first_commit_ts > t.first_view_ts THEN 'after'\n",
    "        ELSE 'before'\n",
    "    END AS time,\n",
    "    AVG((CAST(strftime('%s', t.first_commit_ts) AS INT) - dl.deadlines) / 3600.0) AS avg_diff\n",
    "FROM test t\n",
    "JOIN deadlines dl ON t.labname = dl.labs\n",
    "JOIN users_with_both_times u ON t.uid = u.uid\n",
    "WHERE t.labname != 'project1'\n",
    "GROUP BY time\n",
    "\"\"\""
   ]
  },
  {
   "cell_type": "code",
   "execution_count": 44,
   "id": "74cc0b2a-f240-48e1-b0c4-07857fac3c63",
   "metadata": {},
   "outputs": [
    {
     "data": {
      "text/html": [
       "<div>\n",
       "<style scoped>\n",
       "    .dataframe tbody tr th:only-of-type {\n",
       "        vertical-align: middle;\n",
       "    }\n",
       "\n",
       "    .dataframe tbody tr th {\n",
       "        vertical-align: top;\n",
       "    }\n",
       "\n",
       "    .dataframe thead th {\n",
       "        text-align: right;\n",
       "    }\n",
       "</style>\n",
       "<table border=\"1\" class=\"dataframe\">\n",
       "  <thead>\n",
       "    <tr style=\"text-align: right;\">\n",
       "      <th></th>\n",
       "      <th>time</th>\n",
       "      <th>avg_diff</th>\n",
       "    </tr>\n",
       "  </thead>\n",
       "  <tbody>\n",
       "    <tr>\n",
       "      <th>0</th>\n",
       "      <td>after</td>\n",
       "      <td>-105.229241</td>\n",
       "    </tr>\n",
       "    <tr>\n",
       "      <th>1</th>\n",
       "      <td>before</td>\n",
       "      <td>-61.156632</td>\n",
       "    </tr>\n",
       "  </tbody>\n",
       "</table>\n",
       "</div>"
      ],
      "text/plain": [
       "     time    avg_diff\n",
       "0   after -105.229241\n",
       "1  before  -61.156632"
      ]
     },
     "execution_count": 44,
     "metadata": {},
     "output_type": "execute_result"
    }
   ],
   "source": [
    "test_results = pd.read_sql(query_test, con)\n",
    "test_results"
   ]
  },
  {
   "cell_type": "code",
   "execution_count": 47,
   "id": "1315a957-bd07-4910-b45a-29a2fddda44d",
   "metadata": {},
   "outputs": [],
   "source": [
    "query_control = \"\"\"\n",
    "WITH users_with_both_times AS(\n",
    "    SELECT uid\n",
    "    FROM control c\n",
    "    WHERE c.first_commit_ts < c.first_view_ts\n",
    "        AND c.labname != 'project1'\n",
    "    INTERSECT\n",
    "    SELECT uid\n",
    "    FROM control c\n",
    "    WHERE c.first_commit_ts >= c.first_view_ts\n",
    "        AND c.labname != 'project1'\n",
    ")\n",
    "SELECT\n",
    "    CASE \n",
    "        WHEN c.first_commit_ts > c.first_view_ts THEN 'after'\n",
    "        ELSE 'before'\n",
    "    END AS time,\n",
    "    AVG((CAST(strftime('%s', c.first_commit_ts) AS INT) - dl.deadlines) / 3600.0) AS avg_diff\n",
    "FROM control c\n",
    "JOIN deadlines dl ON c.labname = dl.labs\n",
    "JOIN users_with_both_times u ON c.uid = u.uid\n",
    "WHERE c.labname != 'project1'\n",
    "GROUP BY time\n",
    "\"\"\""
   ]
  },
  {
   "cell_type": "code",
   "execution_count": 49,
   "id": "1c265c4c-c30f-4a75-8c94-3b52b1f9535d",
   "metadata": {},
   "outputs": [
    {
     "data": {
      "text/html": [
       "<div>\n",
       "<style scoped>\n",
       "    .dataframe tbody tr th:only-of-type {\n",
       "        vertical-align: middle;\n",
       "    }\n",
       "\n",
       "    .dataframe tbody tr th {\n",
       "        vertical-align: top;\n",
       "    }\n",
       "\n",
       "    .dataframe thead th {\n",
       "        text-align: right;\n",
       "    }\n",
       "</style>\n",
       "<table border=\"1\" class=\"dataframe\">\n",
       "  <thead>\n",
       "    <tr style=\"text-align: right;\">\n",
       "      <th></th>\n",
       "      <th>time</th>\n",
       "      <th>avg_diff</th>\n",
       "    </tr>\n",
       "  </thead>\n",
       "  <tbody>\n",
       "    <tr>\n",
       "      <th>0</th>\n",
       "      <td>after</td>\n",
       "      <td>-118.144571</td>\n",
       "    </tr>\n",
       "    <tr>\n",
       "      <th>1</th>\n",
       "      <td>before</td>\n",
       "      <td>-99.901448</td>\n",
       "    </tr>\n",
       "  </tbody>\n",
       "</table>\n",
       "</div>"
      ],
      "text/plain": [
       "     time    avg_diff\n",
       "0   after -118.144571\n",
       "1  before  -99.901448"
      ]
     },
     "execution_count": 49,
     "metadata": {},
     "output_type": "execute_result"
    }
   ],
   "source": [
    "control_results = pd.read_sql(query_control, con)\n",
    "control_results"
   ]
  },
  {
   "cell_type": "code",
   "execution_count": 50,
   "id": "0dbf845e-ed59-4adc-bd1f-b22df5db5a9e",
   "metadata": {},
   "outputs": [],
   "source": [
    "con.close()"
   ]
  },
  {
   "cell_type": "markdown",
   "id": "0d6c5c05-b242-471e-94db-54d3f0ae1baa",
   "metadata": {},
   "source": [
    "## 3. Have the answer: did the hypothesis turn out to be true and the page does affect the students’ behavior?"
   ]
  },
  {
   "cell_type": "markdown",
   "id": "0625a4fc-ab57-49da-a8fe-f227a1556479",
   "metadata": {},
   "source": [
    "Новостной канал действительно помог улучшить дисциплину студентов. Среднее время между сдачей работ и дедлайном увеличилось на 26 часов."
   ]
  }
 ],
 "metadata": {
  "kernelspec": {
   "display_name": "Python 3 (ipykernel)",
   "language": "python",
   "name": "python3"
  },
  "language_info": {
   "codemirror_mode": {
    "name": "ipython",
    "version": 3
   },
   "file_extension": ".py",
   "mimetype": "text/x-python",
   "name": "python",
   "nbconvert_exporter": "python",
   "pygments_lexer": "ipython3",
   "version": "3.12.4"
  }
 },
 "nbformat": 4,
 "nbformat_minor": 5
}
