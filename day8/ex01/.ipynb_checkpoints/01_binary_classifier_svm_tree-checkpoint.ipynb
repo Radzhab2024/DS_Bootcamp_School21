{
 "cells": [
  {
   "cell_type": "markdown",
   "metadata": {},
   "source": [
    "# Day 08. Exercise 01\n",
    "# Binary classifier. SVM. Decision tree"
   ]
  },
  {
   "cell_type": "markdown",
   "metadata": {},
   "source": [
    "## 0. Imports"
   ]
  },
  {
   "cell_type": "code",
   "metadata": {
    "ExecuteTime": {
     "end_time": "2025-04-20T11:31:40.662501Z",
     "start_time": "2025-04-20T11:31:39.814046Z"
    }
   },
   "source": [
    "import matplotlib.pyplot as plt\n",
    "import pandas as pd\n",
    "import numpy as np\n",
    "from sklearn.linear_model import LogisticRegression\n",
    "from sklearn.metrics import accuracy_score\n",
    "from sklearn.preprocessing import StandardScaler\n",
    "from sklearn.svm import SVC\n",
    "from sklearn.tree import DecisionTreeClassifier\n",
    "from sklearn.preprocessing import LabelEncoder"
   ],
   "outputs": [],
   "execution_count": 18
  },
  {
   "cell_type": "markdown",
   "metadata": {},
   "source": [
    "## 1. Preprocessing and logreg visualization"
   ]
  },
  {
   "cell_type": "markdown",
   "metadata": {},
   "source": [
    "Read the file `am_pm.csv` to a dataframe from the previous exercise."
   ]
  },
  {
   "cell_type": "markdown",
   "metadata": {},
   "source": [
    "1. Draw a plot where the x-axis is `am`, the y-axis is `pm`, dots are the days, color depends on the target.\n",
    "2. Add the decision boundary of logistic regression to the plot.\n",
    "3. Draw the same plot (with the boundary), but the color should depend this time on the predictions.\n",
    "\n",
    "Now it should be clear for you how the logistic regression works."
   ]
  },
  {
   "cell_type": "code",
   "metadata": {
    "ExecuteTime": {
     "end_time": "2025-04-20T11:24:25.050056Z",
     "start_time": "2025-04-20T11:24:25.032383Z"
    }
   },
   "source": [
    "df = pd.read_csv('../data/am_pm.csv')\n",
    "df.head()"
   ],
   "outputs": [
    {
     "data": {
      "text/plain": [
       "         date  am  pm   target  predict\n",
       "0  2020-04-17  21   2  workday  weekend\n",
       "1  2020-04-18   1  68  weekend  workday\n",
       "2  2020-04-19  18  15  weekend  workday\n",
       "3  2020-04-20   2  23  workday  workday\n",
       "4  2020-04-21   0  25  workday  workday"
      ],
      "text/html": [
       "<div>\n",
       "<style scoped>\n",
       "    .dataframe tbody tr th:only-of-type {\n",
       "        vertical-align: middle;\n",
       "    }\n",
       "\n",
       "    .dataframe tbody tr th {\n",
       "        vertical-align: top;\n",
       "    }\n",
       "\n",
       "    .dataframe thead th {\n",
       "        text-align: right;\n",
       "    }\n",
       "</style>\n",
       "<table border=\"1\" class=\"dataframe\">\n",
       "  <thead>\n",
       "    <tr style=\"text-align: right;\">\n",
       "      <th></th>\n",
       "      <th>date</th>\n",
       "      <th>am</th>\n",
       "      <th>pm</th>\n",
       "      <th>target</th>\n",
       "      <th>predict</th>\n",
       "    </tr>\n",
       "  </thead>\n",
       "  <tbody>\n",
       "    <tr>\n",
       "      <th>0</th>\n",
       "      <td>2020-04-17</td>\n",
       "      <td>21</td>\n",
       "      <td>2</td>\n",
       "      <td>workday</td>\n",
       "      <td>weekend</td>\n",
       "    </tr>\n",
       "    <tr>\n",
       "      <th>1</th>\n",
       "      <td>2020-04-18</td>\n",
       "      <td>1</td>\n",
       "      <td>68</td>\n",
       "      <td>weekend</td>\n",
       "      <td>workday</td>\n",
       "    </tr>\n",
       "    <tr>\n",
       "      <th>2</th>\n",
       "      <td>2020-04-19</td>\n",
       "      <td>18</td>\n",
       "      <td>15</td>\n",
       "      <td>weekend</td>\n",
       "      <td>workday</td>\n",
       "    </tr>\n",
       "    <tr>\n",
       "      <th>3</th>\n",
       "      <td>2020-04-20</td>\n",
       "      <td>2</td>\n",
       "      <td>23</td>\n",
       "      <td>workday</td>\n",
       "      <td>workday</td>\n",
       "    </tr>\n",
       "    <tr>\n",
       "      <th>4</th>\n",
       "      <td>2020-04-21</td>\n",
       "      <td>0</td>\n",
       "      <td>25</td>\n",
       "      <td>workday</td>\n",
       "      <td>workday</td>\n",
       "    </tr>\n",
       "  </tbody>\n",
       "</table>\n",
       "</div>"
      ]
     },
     "execution_count": 2,
     "metadata": {},
     "output_type": "execute_result"
    }
   ],
   "execution_count": 2
  },
  {
   "cell_type": "code",
   "metadata": {
    "ExecuteTime": {
     "end_time": "2025-04-20T11:24:25.281477Z",
     "start_time": "2025-04-20T11:24:25.268412Z"
    }
   },
   "source": [
    "X = df[['am', 'pm']].values\n",
    "Y = df['target'].values\n",
    "model = LogisticRegression(random_state=21, fit_intercept=False)\n",
    "model.fit(X,Y)\n",
    "\n",
    "w1, w2 = model.coef_[0]\n",
    "\n",
    "x_values = np.linspace(df['am'].min(), df['am'].max(), 100) \n",
    "y_values = -(w1/w2) * x_values"
   ],
   "outputs": [],
   "execution_count": 3
  },
  {
   "cell_type": "code",
   "metadata": {
    "ExecuteTime": {
     "end_time": "2025-04-20T11:24:25.535487Z",
     "start_time": "2025-04-20T11:24:25.336400Z"
    }
   },
   "source": [
    "plt.figure(figsize=(15,8))\n",
    "\n",
    "workdays_df = df[df['target'] == 'workday']\n",
    "plt.scatter(workdays_df['am'], workdays_df['pm'], label='Workday', color='blue')\n",
    "\n",
    "weekends_df = df[df['target'] == 'weekend']\n",
    "plt.scatter(weekends_df['am'], weekends_df['pm'], label='Weekend', color='red')\n",
    "\n",
    "plt.plot(x_values, y_values, color='green', linewidth=2)\n",
    "\n",
    "plt.xlabel('am')\n",
    "plt.ylabel('pm')\n",
    "plt.legend()\n",
    "\n",
    "plt.show()"
   ],
   "outputs": [
    {
     "data": {
      "text/plain": [
       "<Figure size 1500x800 with 1 Axes>"
      ],
      "image/png": "[encoded data removed]"
     },
     "metadata": {},
     "output_type": "display_data"
    }
   ],
   "execution_count": 4
  },
  {
   "cell_type": "code",
   "metadata": {
    "ExecuteTime": {
     "end_time": "2025-04-20T11:24:25.702593Z",
     "start_time": "2025-04-20T11:24:25.552500Z"
    }
   },
   "source": [
    "plt.figure(figsize=(15,8))\n",
    "\n",
    "workdays_df = df[df['predict'] == 'workday']\n",
    "plt.scatter(workdays_df['am'], workdays_df['pm'], label='Workday', color='blue')\n",
    "\n",
    "weekends_df = df[df['predict'] == 'weekend']\n",
    "plt.scatter(weekends_df['am'], weekends_df['pm'], label='Weekend', color='red')\n",
    "\n",
    "plt.plot(x_values, y_values, color='green', linewidth=2)\n",
    "\n",
    "plt.xlabel('am')\n",
    "plt.ylabel('pm')\n",
    "plt.legend()\n",
    "\n",
    "plt.show()"
   ],
   "outputs": [
    {
     "data": {
      "text/plain": [
       "<Figure size 1500x800 with 1 Axes>"
      ],
      "image/png": "[encoded data removed]"
     },
     "metadata": {},
     "output_type": "display_data"
    }
   ],
   "execution_count": 5
  },
  {
   "cell_type": "markdown",
   "metadata": {},
   "source": [
    "## 2. Standardizing and logreg"
   ]
  },
  {
   "cell_type": "markdown",
   "metadata": {},
   "source": [
    "Linear models can be sensitive to the scale of your variables. You make it easier for them to find the optimal solution when you scale your features.\n",
    "\n",
    "1. Apply `StandardScaler` to `X` and train logistic regression again with the same parameters.\n",
    "2. Calculate `accuracy` for the new model. Did it get better than a naive classifier with the most popular class?\n",
    "3. Draw the plots that were described above but for the new model."
   ]
  },
  {
   "cell_type": "code",
   "metadata": {
    "ExecuteTime": {
     "end_time": "2025-04-20T11:24:25.745226Z",
     "start_time": "2025-04-20T11:24:25.738465Z"
    }
   },
   "source": [
    "scaler = StandardScaler()\n",
    "scaler.fit(X)\n",
    "X_scaled = scaler.transform(X)"
   ],
   "outputs": [],
   "execution_count": 6
  },
  {
   "cell_type": "code",
   "metadata": {
    "ExecuteTime": {
     "end_time": "2025-04-20T11:24:25.808105Z",
     "start_time": "2025-04-20T11:24:25.791394Z"
    }
   },
   "source": [
    "model_scaled = LogisticRegression(random_state=21, fit_intercept=False)\n",
    "model_scaled.fit(X_scaled,Y)\n",
    "\n",
    "df['predict after scaling'] = model_scaled.predict(X_scaled)\n",
    "accuracy = accuracy_score(y_true=df['target'], y_pred=df['predict after scaling'])\n",
    "accuracy"
   ],
   "outputs": [
    {
     "data": {
      "text/plain": [
       "0.7428571428571429"
      ]
     },
     "execution_count": 7,
     "metadata": {},
     "output_type": "execute_result"
    }
   ],
   "execution_count": 7
  },
  {
   "cell_type": "code",
   "metadata": {
    "ExecuteTime": {
     "end_time": "2025-04-20T11:24:25.870995Z",
     "start_time": "2025-04-20T11:24:25.862761Z"
    }
   },
   "source": [
    "most_common_class = df['target'].value_counts().idxmax()\n",
    "naive_predict = [most_common_class] * len(Y)\n",
    "naive_accuracy = accuracy_score(df['target'], naive_predict)\n",
    "naive_accuracy"
   ],
   "outputs": [
    {
     "data": {
      "text/plain": [
       "0.7142857142857143"
      ]
     },
     "execution_count": 8,
     "metadata": {},
     "output_type": "execute_result"
    }
   ],
   "execution_count": 8
  },
  {
   "cell_type": "code",
   "metadata": {
    "ExecuteTime": {
     "end_time": "2025-04-20T11:24:25.964844Z",
     "start_time": "2025-04-20T11:24:25.956282Z"
    }
   },
   "source": [
    "model = LogisticRegression(random_state=21, fit_intercept=False)\n",
    "model.fit(X_scaled,Y)\n",
    "\n",
    "w1, w2 = model.coef_[0]\n",
    "\n",
    "x_vals_original = np.linspace(df['am'].min(), df['am'].max(), 100)\n",
    "x_vals_scaled = (x_vals_original - scaler.mean_[0]) / scaler.scale_[0]\n",
    "y_vals_scaled = -(w1 * x_vals_scaled) / w2\n",
    "y_vals_original = y_vals_scaled * scaler.scale_[1] + scaler.mean_[1]"
   ],
   "outputs": [],
   "execution_count": 9
  },
  {
   "cell_type": "code",
   "metadata": {
    "ExecuteTime": {
     "end_time": "2025-04-20T11:24:26.163364Z",
     "start_time": "2025-04-20T11:24:25.987261Z"
    }
   },
   "source": [
    "plt.figure(figsize=(15,8))\n",
    "\n",
    "workdays_df = df[df['predict after scaling'] == 'workday']\n",
    "plt.scatter(workdays_df['am'], workdays_df['pm'], label='Workday', color='blue')\n",
    "\n",
    "weekends_df = df[df['predict after scaling'] == 'weekend']\n",
    "plt.scatter(weekends_df['am'], weekends_df['pm'], label='Weekend', color='red')\n",
    "\n",
    "plt.plot(x_vals_original, y_vals_original, color='green', linewidth=2)\n",
    "\n",
    "plt.xlabel('am')\n",
    "plt.ylabel('pm')\n",
    "plt.legend()\n",
    "\n",
    "plt.show()"
   ],
   "outputs": [
    {
     "data": {
      "text/plain": [
       "<Figure size 1500x800 with 1 Axes>"
      ],
      "image/png": "[encoded data removed]"
     },
     "metadata": {},
     "output_type": "display_data"
    }
   ],
   "execution_count": 10
  },
  {
   "cell_type": "markdown",
   "metadata": {},
   "source": [
    "## 3. SVM"
   ]
  },
  {
   "cell_type": "markdown",
   "metadata": {},
   "source": [
    "1. Apply `SVC` model to the scaled dataframe using parameters `probability=True`, `random_state=21`.\n",
    "2. Calculate `accuracy`.\n",
    "3. Try different kernels, find the best in terms of accuracy.\n",
    "4. Draw both plots again with the decisions boundary to see how this algorithm works."
   ]
  },
  {
   "cell_type": "code",
   "metadata": {
    "ExecuteTime": {
     "end_time": "2025-04-20T11:24:26.202455Z",
     "start_time": "2025-04-20T11:24:26.185704Z"
    }
   },
   "source": [
    "kernel_list = ['linear', 'poly', 'rbf', 'sigmoid']\n",
    "\n",
    "best_accuracy = 0\n",
    "best_kernel = None\n",
    "best_model = None\n",
    "\n",
    "for kernel_element in kernel_list:\n",
    "    model_svc = SVC(probability=True, random_state=21,kernel=kernel_element)\n",
    "    model_svc.fit(X_scaled,Y)\n",
    "    y_pred = model_svc.predict(X_scaled)\n",
    "    accuracy = accuracy_score(Y, y_pred)\n",
    "    print(f'{kernel_element} accuracy: {accuracy:.4f}')\n",
    "    \n",
    "    if accuracy >= best_accuracy:\n",
    "        best_accuracy = accuracy\n",
    "        best_model = model_svc\n",
    "        best_kernel = kernel_element\n",
    "\n",
    "print(f'Best model: {best_kernel} with accuracy {best_accuracy}')"
   ],
   "outputs": [
    {
     "name": "stdout",
     "output_type": "stream",
     "text": [
      "linear accuracy: 0.7143\n",
      "poly accuracy: 0.7429\n",
      "rbf accuracy: 0.7429\n",
      "sigmoid accuracy: 0.6857\n",
      "Best model: rbf with accuracy 0.7428571428571429\n"
     ]
    }
   ],
   "execution_count": 11
  },
  {
   "cell_type": "code",
   "metadata": {
    "ExecuteTime": {
     "end_time": "2025-04-20T11:24:26.254206Z",
     "start_time": "2025-04-20T11:24:26.239727Z"
    }
   },
   "source": [
    "df['SVM predict'] = best_model.predict(X_scaled)\n",
    "df"
   ],
   "outputs": [
    {
     "data": {
      "text/plain": [
       "          date  am   pm   target  predict predict after scaling SVM predict\n",
       "0   2020-04-17  21    2  workday  weekend               workday     workday\n",
       "1   2020-04-18   1   68  weekend  workday               workday     workday\n",
       "2   2020-04-19  18   15  weekend  workday               workday     workday\n",
       "3   2020-04-20   2   23  workday  workday               workday     workday\n",
       "4   2020-04-21   0   25  workday  workday               workday     workday\n",
       "5   2020-04-22   0   28  workday  workday               workday     workday\n",
       "6   2020-04-23  10   33  workday  workday               workday     workday\n",
       "7   2020-04-24   2   14  workday  workday               workday     workday\n",
       "8   2020-04-25  30   74  weekend  workday               weekend     workday\n",
       "9   2020-04-26  28  233  weekend  workday               weekend     workday\n",
       "10  2020-04-27   4    2  workday  workday               workday     workday\n",
       "11  2020-04-28   4    1  workday  workday               workday     workday\n",
       "12  2020-04-29   0   17  workday  workday               workday     workday\n",
       "13  2020-04-30  13   40  workday  workday               workday     workday\n",
       "14  2020-05-01   8   52  workday  workday               workday     workday\n",
       "15  2020-05-02  91  151  weekend  workday               weekend     workday\n",
       "16  2020-05-03  47  133  weekend  workday               weekend     weekend\n",
       "17  2020-05-04  11   26  workday  workday               workday     workday\n",
       "18  2020-05-05  81   58  workday  workday               weekend     workday\n",
       "19  2020-05-06   2    0  workday  weekend               workday     workday\n",
       "20  2020-05-07  14   38  workday  workday               workday     workday\n",
       "21  2020-05-08   3   84  workday  workday               workday     workday\n",
       "22  2020-05-09   0   86  weekend  workday               workday     workday\n",
       "23  2020-05-10  10  133  weekend  workday               workday     workday\n",
       "24  2020-05-11   3  183  workday  workday               workday     workday\n",
       "25  2020-05-12  56  267  workday  workday               weekend     workday\n",
       "26  2020-05-13   6  205  workday  workday               workday     workday\n",
       "27  2020-05-14  66  509  workday  workday               weekend     workday\n",
       "28  2020-05-15  10    0  workday  weekend               workday     workday\n",
       "29  2020-05-16   0    4  weekend  workday               workday     workday\n",
       "30  2020-05-17   2   46  weekend  workday               workday     workday\n",
       "31  2020-05-18   0    3  workday  workday               workday     workday\n",
       "32  2020-05-19  20   14  workday  workday               workday     workday\n",
       "33  2020-05-20   7   21  workday  workday               workday     workday\n",
       "34  2020-05-21   1   48  workday  workday               workday     workday"
      ],
      "text/html": [
       "<div>\n",
       "<style scoped>\n",
       "    .dataframe tbody tr th:only-of-type {\n",
       "        vertical-align: middle;\n",
       "    }\n",
       "\n",
       "    .dataframe tbody tr th {\n",
       "        vertical-align: top;\n",
       "    }\n",
       "\n",
       "    .dataframe thead th {\n",
       "        text-align: right;\n",
       "    }\n",
       "</style>\n",
       "<table border=\"1\" class=\"dataframe\">\n",
       "  <thead>\n",
       "    <tr style=\"text-align: right;\">\n",
       "      <th></th>\n",
       "      <th>date</th>\n",
       "      <th>am</th>\n",
       "      <th>pm</th>\n",
       "      <th>target</th>\n",
       "      <th>predict</th>\n",
       "      <th>predict after scaling</th>\n",
       "      <th>SVM predict</th>\n",
       "    </tr>\n",
       "  </thead>\n",
       "  <tbody>\n",
       "    <tr>\n",
       "      <th>0</th>\n",
       "      <td>2020-04-17</td>\n",
       "      <td>21</td>\n",
       "      <td>2</td>\n",
       "      <td>workday</td>\n",
       "      <td>weekend</td>\n",
       "      <td>workday</td>\n",
       "      <td>workday</td>\n",
       "    </tr>\n",
       "    <tr>\n",
       "      <th>1</th>\n",
       "      <td>2020-04-18</td>\n",
       "      <td>1</td>\n",
       "      <td>68</td>\n",
       "      <td>weekend</td>\n",
       "      <td>workday</td>\n",
       "      <td>workday</td>\n",
       "      <td>workday</td>\n",
       "    </tr>\n",
       "    <tr>\n",
       "      <th>2</th>\n",
       "      <td>2020-04-19</td>\n",
       "      <td>18</td>\n",
       "      <td>15</td>\n",
       "      <td>weekend</td>\n",
       "      <td>workday</td>\n",
       "      <td>workday</td>\n",
       "      <td>workday</td>\n",
       "    </tr>\n",
       "    <tr>\n",
       "      <th>3</th>\n",
       "      <td>2020-04-20</td>\n",
       "      <td>2</td>\n",
       "      <td>23</td>\n",
       "      <td>workday</td>\n",
       "      <td>workday</td>\n",
       "      <td>workday</td>\n",
       "      <td>workday</td>\n",
       "    </tr>\n",
       "    <tr>\n",
       "      <th>4</th>\n",
       "      <td>2020-04-21</td>\n",
       "      <td>0</td>\n",
       "      <td>25</td>\n",
       "      <td>workday</td>\n",
       "      <td>workday</td>\n",
       "      <td>workday</td>\n",
       "      <td>workday</td>\n",
       "    </tr>\n",
       "    <tr>\n",
       "      <th>5</th>\n",
       "      <td>2020-04-22</td>\n",
       "      <td>0</td>\n",
       "      <td>28</td>\n",
       "      <td>workday</td>\n",
       "      <td>workday</td>\n",
       "      <td>workday</td>\n",
       "      <td>workday</td>\n",
       "    </tr>\n",
       "    <tr>\n",
       "      <th>6</th>\n",
       "      <td>2020-04-23</td>\n",
       "      <td>10</td>\n",
       "      <td>33</td>\n",
       "      <td>workday</td>\n",
       "      <td>workday</td>\n",
       "      <td>workday</td>\n",
       "      <td>workday</td>\n",
       "    </tr>\n",
       "    <tr>\n",
       "      <th>7</th>\n",
       "      <td>2020-04-24</td>\n",
       "      <td>2</td>\n",
       "      <td>14</td>\n",
       "      <td>workday</td>\n",
       "      <td>workday</td>\n",
       "      <td>workday</td>\n",
       "      <td>workday</td>\n",
       "    </tr>\n",
       "    <tr>\n",
       "      <th>8</th>\n",
       "      <td>2020-04-25</td>\n",
       "      <td>30</td>\n",
       "      <td>74</td>\n",
       "      <td>weekend</td>\n",
       "      <td>workday</td>\n",
       "      <td>weekend</td>\n",
       "      <td>workday</td>\n",
       "    </tr>\n",
       "    <tr>\n",
       "      <th>9</th>\n",
       "      <td>2020-04-26</td>\n",
       "      <td>28</td>\n",
       "      <td>233</td>\n",
       "      <td>weekend</td>\n",
       "      <td>workday</td>\n",
       "      <td>weekend</td>\n",
       "      <td>workday</td>\n",
       "    </tr>\n",
       "    <tr>\n",
       "      <th>10</th>\n",
       "      <td>2020-04-27</td>\n",
       "      <td>4</td>\n",
       "      <td>2</td>\n",
       "      <td>workday</td>\n",
       "      <td>workday</td>\n",
       "      <td>workday</td>\n",
       "      <td>workday</td>\n",
       "    </tr>\n",
       "    <tr>\n",
       "      <th>11</th>\n",
       "      <td>2020-04-28</td>\n",
       "      <td>4</td>\n",
       "      <td>1</td>\n",
       "      <td>workday</td>\n",
       "      <td>workday</td>\n",
       "      <td>workday</td>\n",
       "      <td>workday</td>\n",
       "    </tr>\n",
       "    <tr>\n",
       "      <th>12</th>\n",
       "      <td>2020-04-29</td>\n",
       "      <td>0</td>\n",
       "      <td>17</td>\n",
       "      <td>workday</td>\n",
       "      <td>workday</td>\n",
       "      <td>workday</td>\n",
       "      <td>workday</td>\n",
       "    </tr>\n",
       "    <tr>\n",
       "      <th>13</th>\n",
       "      <td>2020-04-30</td>\n",
       "      <td>13</td>\n",
       "      <td>40</td>\n",
       "      <td>workday</td>\n",
       "      <td>workday</td>\n",
       "      <td>workday</td>\n",
       "      <td>workday</td>\n",
       "    </tr>\n",
       "    <tr>\n",
       "      <th>14</th>\n",
       "      <td>2020-05-01</td>\n",
       "      <td>8</td>\n",
       "      <td>52</td>\n",
       "      <td>workday</td>\n",
       "      <td>workday</td>\n",
       "      <td>workday</td>\n",
       "      <td>workday</td>\n",
       "    </tr>\n",
       "    <tr>\n",
       "      <th>15</th>\n",
       "      <td>2020-05-02</td>\n",
       "      <td>91</td>\n",
       "      <td>151</td>\n",
       "      <td>weekend</td>\n",
       "      <td>workday</td>\n",
       "      <td>weekend</td>\n",
       "      <td>workday</td>\n",
       "    </tr>\n",
       "    <tr>\n",
       "      <th>16</th>\n",
       "      <td>2020-05-03</td>\n",
       "      <td>47</td>\n",
       "      <td>133</td>\n",
       "      <td>weekend</td>\n",
       "      <td>workday</td>\n",
       "      <td>weekend</td>\n",
       "      <td>weekend</td>\n",
       "    </tr>\n",
       "    <tr>\n",
       "      <th>17</th>\n",
       "      <td>2020-05-04</td>\n",
       "      <td>11</td>\n",
       "      <td>26</td>\n",
       "      <td>workday</td>\n",
       "      <td>workday</td>\n",
       "      <td>workday</td>\n",
       "      <td>workday</td>\n",
       "    </tr>\n",
       "    <tr>\n",
       "      <th>18</th>\n",
       "      <td>2020-05-05</td>\n",
       "      <td>81</td>\n",
       "      <td>58</td>\n",
       "      <td>workday</td>\n",
       "      <td>workday</td>\n",
       "      <td>weekend</td>\n",
       "      <td>workday</td>\n",
       "    </tr>\n",
       "    <tr>\n",
       "      <th>19</th>\n",
       "      <td>2020-05-06</td>\n",
       "      <td>2</td>\n",
       "      <td>0</td>\n",
       "      <td>workday</td>\n",
       "      <td>weekend</td>\n",
       "      <td>workday</td>\n",
       "      <td>workday</td>\n",
       "    </tr>\n",
       "    <tr>\n",
       "      <th>20</th>\n",
       "      <td>2020-05-07</td>\n",
       "      <td>14</td>\n",
       "      <td>38</td>\n",
       "      <td>workday</td>\n",
       "      <td>workday</td>\n",
       "      <td>workday</td>\n",
       "      <td>workday</td>\n",
       "    </tr>\n",
       "    <tr>\n",
       "      <th>21</th>\n",
       "      <td>2020-05-08</td>\n",
       "      <td>3</td>\n",
       "      <td>84</td>\n",
       "      <td>workday</td>\n",
       "      <td>workday</td>\n",
       "      <td>workday</td>\n",
       "      <td>workday</td>\n",
       "    </tr>\n",
       "    <tr>\n",
       "      <th>22</th>\n",
       "      <td>2020-05-09</td>\n",
       "      <td>0</td>\n",
       "      <td>86</td>\n",
       "      <td>weekend</td>\n",
       "      <td>workday</td>\n",
       "      <td>workday</td>\n",
       "      <td>workday</td>\n",
       "    </tr>\n",
       "    <tr>\n",
       "      <th>23</th>\n",
       "      <td>2020-05-10</td>\n",
       "      <td>10</td>\n",
       "      <td>133</td>\n",
       "      <td>weekend</td>\n",
       "      <td>workday</td>\n",
       "      <td>workday</td>\n",
       "      <td>workday</td>\n",
       "    </tr>\n",
       "    <tr>\n",
       "      <th>24</th>\n",
       "      <td>2020-05-11</td>\n",
       "      <td>3</td>\n",
       "      <td>183</td>\n",
       "      <td>workday</td>\n",
       "      <td>workday</td>\n",
       "      <td>workday</td>\n",
       "      <td>workday</td>\n",
       "    </tr>\n",
       "    <tr>\n",
       "      <th>25</th>\n",
       "      <td>2020-05-12</td>\n",
       "      <td>56</td>\n",
       "      <td>267</td>\n",
       "      <td>workday</td>\n",
       "      <td>workday</td>\n",
       "      <td>weekend</td>\n",
       "      <td>workday</td>\n",
       "    </tr>\n",
       "    <tr>\n",
       "      <th>26</th>\n",
       "      <td>2020-05-13</td>\n",
       "      <td>6</td>\n",
       "      <td>205</td>\n",
       "      <td>workday</td>\n",
       "      <td>workday</td>\n",
       "      <td>workday</td>\n",
       "      <td>workday</td>\n",
       "    </tr>\n",
       "    <tr>\n",
       "      <th>27</th>\n",
       "      <td>2020-05-14</td>\n",
       "      <td>66</td>\n",
       "      <td>509</td>\n",
       "      <td>workday</td>\n",
       "      <td>workday</td>\n",
       "      <td>weekend</td>\n",
       "      <td>workday</td>\n",
       "    </tr>\n",
       "    <tr>\n",
       "      <th>28</th>\n",
       "      <td>2020-05-15</td>\n",
       "      <td>10</td>\n",
       "      <td>0</td>\n",
       "      <td>workday</td>\n",
       "      <td>weekend</td>\n",
       "      <td>workday</td>\n",
       "      <td>workday</td>\n",
       "    </tr>\n",
       "    <tr>\n",
       "      <th>29</th>\n",
       "      <td>2020-05-16</td>\n",
       "      <td>0</td>\n",
       "      <td>4</td>\n",
       "      <td>weekend</td>\n",
       "      <td>workday</td>\n",
       "      <td>workday</td>\n",
       "      <td>workday</td>\n",
       "    </tr>\n",
       "    <tr>\n",
       "      <th>30</th>\n",
       "      <td>2020-05-17</td>\n",
       "      <td>2</td>\n",
       "      <td>46</td>\n",
       "      <td>weekend</td>\n",
       "      <td>workday</td>\n",
       "      <td>workday</td>\n",
       "      <td>workday</td>\n",
       "    </tr>\n",
       "    <tr>\n",
       "      <th>31</th>\n",
       "      <td>2020-05-18</td>\n",
       "      <td>0</td>\n",
       "      <td>3</td>\n",
       "      <td>workday</td>\n",
       "      <td>workday</td>\n",
       "      <td>workday</td>\n",
       "      <td>workday</td>\n",
       "    </tr>\n",
       "    <tr>\n",
       "      <th>32</th>\n",
       "      <td>2020-05-19</td>\n",
       "      <td>20</td>\n",
       "      <td>14</td>\n",
       "      <td>workday</td>\n",
       "      <td>workday</td>\n",
       "      <td>workday</td>\n",
       "      <td>workday</td>\n",
       "    </tr>\n",
       "    <tr>\n",
       "      <th>33</th>\n",
       "      <td>2020-05-20</td>\n",
       "      <td>7</td>\n",
       "      <td>21</td>\n",
       "      <td>workday</td>\n",
       "      <td>workday</td>\n",
       "      <td>workday</td>\n",
       "      <td>workday</td>\n",
       "    </tr>\n",
       "    <tr>\n",
       "      <th>34</th>\n",
       "      <td>2020-05-21</td>\n",
       "      <td>1</td>\n",
       "      <td>48</td>\n",
       "      <td>workday</td>\n",
       "      <td>workday</td>\n",
       "      <td>workday</td>\n",
       "      <td>workday</td>\n",
       "    </tr>\n",
       "  </tbody>\n",
       "</table>\n",
       "</div>"
      ]
     },
     "execution_count": 12,
     "metadata": {},
     "output_type": "execute_result"
    }
   ],
   "execution_count": 12
  },
  {
   "cell_type": "code",
   "metadata": {
    "ExecuteTime": {
     "end_time": "2025-04-20T11:24:26.333528Z",
     "start_time": "2025-04-20T11:24:26.327108Z"
    }
   },
   "source": [
    "final_accuracy = accuracy_score(Y, df['SVM predict'])\n",
    "final_accuracy"
   ],
   "outputs": [
    {
     "data": {
      "text/plain": [
       "0.7428571428571429"
      ]
     },
     "execution_count": 13,
     "metadata": {},
     "output_type": "execute_result"
    }
   ],
   "execution_count": 13
  },
  {
   "cell_type": "code",
   "metadata": {
    "ExecuteTime": {
     "end_time": "2025-04-20T11:26:11.789159Z",
     "start_time": "2025-04-20T11:26:11.526947Z"
    }
   },
   "source": [
    "plt.figure(figsize=(15,8))\n",
    "\n",
    "workdays_df = df[df['SVM predict'] == 'workday']\n",
    "plt.scatter(workdays_df['am'], workdays_df['pm'], label='Workday', color='blue')\n",
    "\n",
    "weekends_df = df[df['SVM predict'] == 'weekend']\n",
    "plt.scatter(weekends_df['am'], weekends_df['pm'], label='Weekend', color='red')\n",
    "\n",
    "if best_model.kernel == 'linear':\n",
    "    w1, w2 = best_model.coef_[0]\n",
    "    b = best_model.intercept_[0]\n",
    "    x_vals = np.linspace(df['am'].min(), df['am'].max(), 100)\n",
    "    y_vals = -(w1 * x_vals + b) / w2\n",
    "    plt.plot(x_vals, y_vals, 'g-', linewidth=2, label=\"Decision Boundary\")\n",
    "else:\n",
    "    xx, yy = np.meshgrid(\n",
    "        np.linspace(df['am'].min(), df['am'].max(), 100),\n",
    "        np.linspace(df['pm'].min(), df['pm'].max(), 100)\n",
    "    )\n",
    "    mesh_points = pd.DataFrame(np.c_[xx.ravel(), yy.ravel()], columns=['am', 'pm'])\n",
    "    \n",
    "    mesh_points_scaled = scaler.transform(mesh_points)\n",
    "    Z = best_model.predict(mesh_points_scaled)\n",
    "\n",
    "    Z_numeric = np.where(Z == 'weekend', 1, 0).reshape(xx.shape)\n",
    "    \n",
    "    plt.contour(xx, yy, Z_numeric, colors='green', linewidths=2, levels=[0.5])\n",
    "\n",
    "\n",
    "\n",
    "plt.xlabel('am')\n",
    "plt.ylabel('pm')\n",
    "plt.legend()\n",
    "\n",
    "plt.show()"
   ],
   "outputs": [
    {
     "name": "stderr",
     "output_type": "stream",
     "text": [
      "C:\\Python312\\Lib\\site-packages\\sklearn\\utils\\validation.py:2732: UserWarning: X has feature names, but StandardScaler was fitted without feature names\n",
      "  warnings.warn(\n"
     ]
    },
    {
     "data": {
      "text/plain": [
       "<Figure size 1500x800 with 1 Axes>"
      ],
      "image/png": "[encoded data removed]"
     },
     "metadata": {},
     "output_type": "display_data"
    }
   ],
   "execution_count": 16
  },
  {
   "cell_type": "markdown",
   "metadata": {},
   "source": [
    "## 4. Decision tree"
   ]
  },
  {
   "cell_type": "markdown",
   "metadata": {},
   "source": [
    "1. Apply `DecisionTreeClassifier` to the scaled dataframe using parameters `max_depth=4`, `random_state=42`.\n",
    "2. Calculate accuracy.\n",
    "3. Try different values of `max_depth`.\n",
    "4. Draw both plots again with the decisions boundary to see how this algorithm works.\n",
    "5. Using method `.plot_tree()` visualize the decision tree itself. It is another way of thinking about how the algorithm works.\n",
    "6. How many leaves in the visualized tree label days as working days? Put your answer in the markdown cell in the end of the section."
   ]
  },
  {
   "cell_type": "code",
   "metadata": {
    "ExecuteTime": {
     "end_time": "2025-04-20T11:31:55.496588Z",
     "start_time": "2025-04-20T11:31:55.465937Z"
    }
   },
   "source": [
    "le = LabelEncoder()\n",
    "df['target encoded'] = le.fit_transform(df['target'])\n",
    "\n",
    "model = DecisionTreeClassifier(max_depth=4, random_state=42)\n",
    "model.fit(X, df['target encoded'])\n",
    "\n",
    "df['Tree predict'] = model.predict(X)\n",
    "accuracy = accuracy_score(df['target encoded'], df['Tree predict'])\n",
    "accuracy"
   ],
   "outputs": [
    {
     "data": {
      "text/plain": [
       "0.9428571428571428"
      ]
     },
     "execution_count": 19,
     "metadata": {},
     "output_type": "execute_result"
    }
   ],
   "execution_count": 19
  },
  {
   "cell_type": "code",
   "metadata": {
    "ExecuteTime": {
     "end_time": "2025-04-20T11:32:27.498979Z",
     "start_time": "2025-04-20T11:32:27.489893Z"
    }
   },
   "source": [
    "x_min, x_max = X_scaled[:, 0].min() - 1, X_scaled[:, 0].max() + 1\n",
    "y_min, y_max = X_scaled[:, 1].min() - 1, X_scaled[:, 1].max() + 1\n",
    "xx, yy = np.meshgrid(np.linspace(x_min, x_max, 200),\n",
    "                     np.linspace(y_min, y_max, 200))\n",
    "\n",
    "mesh_points = np.c_[xx.ravel(), yy.ravel()]\n",
    "Z = model.predict(mesh_points).reshape(xx.shape)"
   ],
   "outputs": [],
   "execution_count": 22
  },
  {
   "cell_type": "code",
   "metadata": {
    "ExecuteTime": {
     "end_time": "2025-04-20T11:33:32.988215Z",
     "start_time": "2025-04-20T11:33:32.792912Z"
    }
   },
   "source": [
    "from matplotlib.patches import Patch\n",
    "plt.figure(figsize=(15, 8))\n",
    "\n",
    "plt.contourf(xx, yy, Z, alpha=0.3, cmap='coolwarm')\n",
    "\n",
    "scatter = plt.scatter(X[:, 0], X[:, 1], c=np.where(Y == 'weekend', 1, 0), \n",
    "            cmap='coolwarm', edgecolor='k', label=Y)\n",
    "\n",
    "legend_elements = [Patch(facecolor='blue', alpha=0.3, label='Workday'),\n",
    "                   Patch(facecolor='red', alpha=0.3, label='Weekend')]\n",
    "\n",
    "plt.legend(handles=legend_elements, loc='upper right')\n",
    "\n",
    "plt.xlabel('am')\n",
    "plt.ylabel('pm')\n",
    "plt.title('Decision Tree Classification')\n",
    "plt.show()"
   ],
   "outputs": [
    {
     "data": {
      "text/plain": [
       "<Figure size 1500x800 with 1 Axes>"
      ],
      "image/png": "[encoded data removed]"
     },
     "metadata": {},
     "output_type": "display_data"
    }
   ],
   "execution_count": 25
  },
  {
   "cell_type": "code",
   "metadata": {
    "ExecuteTime": {
     "end_time": "2025-04-20T11:16:57.075378Z",
     "start_time": "2025-04-20T11:16:57.072208Z"
    }
   },
   "source": [],
   "outputs": [],
   "execution_count": null
  },
  {
   "cell_type": "code",
   "metadata": {
    "ExecuteTime": {
     "end_time": "2025-04-20T11:16:57.103899Z",
     "start_time": "2025-04-20T11:16:57.099224Z"
    }
   },
   "source": [],
   "outputs": [],
   "execution_count": null
  },
  {
   "cell_type": "markdown",
   "metadata": {},
   "source": []
  }
 ],
 "metadata": {
  "kernelspec": {
   "display_name": "Python 3",
   "language": "python",
   "name": "python3"
  },
  "language_info": {
   "codemirror_mode": {
    "name": "ipython",
    "version": 3
   },
   "file_extension": ".py",
   "mimetype": "text/x-python",
   "name": "python",
   "nbconvert_exporter": "python",
   "pygments_lexer": "ipython3",
   "version": "3.7.7"
  }
 },
 "nbformat": 4,
 "nbformat_minor": 4
}
