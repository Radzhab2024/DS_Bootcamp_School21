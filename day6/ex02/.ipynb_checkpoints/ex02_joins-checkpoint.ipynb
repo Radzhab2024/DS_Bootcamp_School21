{
 "cells": [
  {
   "cell_type": "code",
   "execution_count": 1,
   "id": "1d8dcefa-9ed7-4ec3-9450-3aae94b0d3d4",
   "metadata": {},
   "outputs": [],
   "source": [
    "import pandas as pd\n",
    "import sqlite3"
   ]
  },
  {
   "cell_type": "markdown",
   "id": "1570901f-2ba0-4bff-beb2-e903ce9c45c1",
   "metadata": {},
   "source": [
    "## 1. Create a connection to the database using the library sqlite3."
   ]
  },
  {
   "cell_type": "code",
   "execution_count": 2,
   "id": "649e83c4-14b1-4bab-bc55-e7f46023f1cb",
   "metadata": {},
   "outputs": [],
   "source": [
    "con = sqlite3.connect('data/checking-logs.sqlite')"
   ]
  },
  {
   "cell_type": "markdown",
   "id": "7095a6e9-9e95-4949-9b66-c26af8fb7ec9",
   "metadata": {},
   "source": [
    "## 2. Create a new table datamart in the database by joining the tables pageviews and checker using only one query."
   ]
  },
  {
   "cell_type": "code",
   "execution_count": 3,
   "id": "93a22f71-3673-4611-817a-330804bfb113",
   "metadata": {},
   "outputs": [
    {
     "data": {
      "text/html": [
       "<div>\n",
       "<style scoped>\n",
       "    .dataframe tbody tr th:only-of-type {\n",
       "        vertical-align: middle;\n",
       "    }\n",
       "\n",
       "    .dataframe tbody tr th {\n",
       "        vertical-align: top;\n",
       "    }\n",
       "\n",
       "    .dataframe thead th {\n",
       "        text-align: right;\n",
       "    }\n",
       "</style>\n",
       "<table border=\"1\" class=\"dataframe\">\n",
       "  <thead>\n",
       "    <tr style=\"text-align: right;\">\n",
       "      <th></th>\n",
       "      <th>cid</th>\n",
       "      <th>name</th>\n",
       "      <th>type</th>\n",
       "      <th>notnull</th>\n",
       "      <th>dflt_value</th>\n",
       "      <th>pk</th>\n",
       "    </tr>\n",
       "  </thead>\n",
       "  <tbody>\n",
       "    <tr>\n",
       "      <th>0</th>\n",
       "      <td>0</td>\n",
       "      <td>index</td>\n",
       "      <td>INTEGER</td>\n",
       "      <td>0</td>\n",
       "      <td>None</td>\n",
       "      <td>0</td>\n",
       "    </tr>\n",
       "    <tr>\n",
       "      <th>1</th>\n",
       "      <td>1</td>\n",
       "      <td>status</td>\n",
       "      <td>TEXT</td>\n",
       "      <td>0</td>\n",
       "      <td>None</td>\n",
       "      <td>0</td>\n",
       "    </tr>\n",
       "    <tr>\n",
       "      <th>2</th>\n",
       "      <td>2</td>\n",
       "      <td>success</td>\n",
       "      <td>INTEGER</td>\n",
       "      <td>0</td>\n",
       "      <td>None</td>\n",
       "      <td>0</td>\n",
       "    </tr>\n",
       "    <tr>\n",
       "      <th>3</th>\n",
       "      <td>3</td>\n",
       "      <td>timestamp</td>\n",
       "      <td>TIMESTAMP</td>\n",
       "      <td>0</td>\n",
       "      <td>None</td>\n",
       "      <td>0</td>\n",
       "    </tr>\n",
       "    <tr>\n",
       "      <th>4</th>\n",
       "      <td>4</td>\n",
       "      <td>numTrials</td>\n",
       "      <td>INTEGER</td>\n",
       "      <td>0</td>\n",
       "      <td>None</td>\n",
       "      <td>0</td>\n",
       "    </tr>\n",
       "    <tr>\n",
       "      <th>5</th>\n",
       "      <td>5</td>\n",
       "      <td>labname</td>\n",
       "      <td>TEXT</td>\n",
       "      <td>0</td>\n",
       "      <td>None</td>\n",
       "      <td>0</td>\n",
       "    </tr>\n",
       "    <tr>\n",
       "      <th>6</th>\n",
       "      <td>6</td>\n",
       "      <td>uid</td>\n",
       "      <td>TEXT</td>\n",
       "      <td>0</td>\n",
       "      <td>None</td>\n",
       "      <td>0</td>\n",
       "    </tr>\n",
       "  </tbody>\n",
       "</table>\n",
       "</div>"
      ],
      "text/plain": [
       "   cid       name       type  notnull dflt_value  pk\n",
       "0    0      index    INTEGER        0       None   0\n",
       "1    1     status       TEXT        0       None   0\n",
       "2    2    success    INTEGER        0       None   0\n",
       "3    3  timestamp  TIMESTAMP        0       None   0\n",
       "4    4  numTrials    INTEGER        0       None   0\n",
       "5    5    labname       TEXT        0       None   0\n",
       "6    6        uid       TEXT        0       None   0"
      ]
     },
     "execution_count": 3,
     "metadata": {},
     "output_type": "execute_result"
    }
   ],
   "source": [
    "pd.read_sql('PRAGMA table_info(checker);', con)"
   ]
  },
  {
   "cell_type": "code",
   "execution_count": 4,
   "id": "400f1edd-7ea4-407a-a9a9-c52716ca991f",
   "metadata": {},
   "outputs": [
    {
     "data": {
      "text/html": [
       "<div>\n",
       "<style scoped>\n",
       "    .dataframe tbody tr th:only-of-type {\n",
       "        vertical-align: middle;\n",
       "    }\n",
       "\n",
       "    .dataframe tbody tr th {\n",
       "        vertical-align: top;\n",
       "    }\n",
       "\n",
       "    .dataframe thead th {\n",
       "        text-align: right;\n",
       "    }\n",
       "</style>\n",
       "<table border=\"1\" class=\"dataframe\">\n",
       "  <thead>\n",
       "    <tr style=\"text-align: right;\">\n",
       "      <th></th>\n",
       "      <th>cid</th>\n",
       "      <th>name</th>\n",
       "      <th>type</th>\n",
       "      <th>notnull</th>\n",
       "      <th>dflt_value</th>\n",
       "      <th>pk</th>\n",
       "    </tr>\n",
       "  </thead>\n",
       "  <tbody>\n",
       "    <tr>\n",
       "      <th>0</th>\n",
       "      <td>0</td>\n",
       "      <td>index</td>\n",
       "      <td>INTEGER</td>\n",
       "      <td>0</td>\n",
       "      <td>None</td>\n",
       "      <td>0</td>\n",
       "    </tr>\n",
       "    <tr>\n",
       "      <th>1</th>\n",
       "      <td>1</td>\n",
       "      <td>uid</td>\n",
       "      <td>TEXT</td>\n",
       "      <td>0</td>\n",
       "      <td>None</td>\n",
       "      <td>0</td>\n",
       "    </tr>\n",
       "    <tr>\n",
       "      <th>2</th>\n",
       "      <td>2</td>\n",
       "      <td>datetime</td>\n",
       "      <td>TIMESTAMP</td>\n",
       "      <td>0</td>\n",
       "      <td>None</td>\n",
       "      <td>0</td>\n",
       "    </tr>\n",
       "  </tbody>\n",
       "</table>\n",
       "</div>"
      ],
      "text/plain": [
       "   cid      name       type  notnull dflt_value  pk\n",
       "0    0     index    INTEGER        0       None   0\n",
       "1    1       uid       TEXT        0       None   0\n",
       "2    2  datetime  TIMESTAMP        0       None   0"
      ]
     },
     "execution_count": 4,
     "metadata": {},
     "output_type": "execute_result"
    }
   ],
   "source": [
    "pd.read_sql('PRAGMA table_info(pageviews);', con)"
   ]
  },
  {
   "cell_type": "code",
   "execution_count": 5,
   "id": "e94ceb59-7633-4c74-9d10-c04fa584acbb",
   "metadata": {},
   "outputs": [],
   "source": [
    "query = \"\"\"\n",
    "CREATE TABLE datamart AS\n",
    "WITH first_views AS (\n",
    "    SELECT uid, MIN (datetime) AS first_view_ts\n",
    "    FROM pageviews\n",
    "    GROUP BY uid\n",
    ")\n",
    "SELECT \n",
    "    ch.uid, \n",
    "    ch.labname, \n",
    "    ch.timestamp AS first_commit_ts,\n",
    "    fv.first_view_ts\n",
    "FROM checker ch\n",
    "LEFT JOIN first_views fv \n",
    "    ON ch.uid = fv.uid\n",
    "WHERE \n",
    "    ch.status = 'ready'\n",
    "    AND ch.numTrials = 1\n",
    "    AND ch.labname IN ('laba04', 'laba04s', 'laba05', 'laba06', 'laba06s', 'project1')    \n",
    "    AND ch.uid LIKE 'user_%'\n",
    "\"\"\""
   ]
  },
  {
   "cell_type": "code",
   "execution_count": 6,
   "id": "e38a9d1a-f2b2-46e4-816e-b02b9e4b983d",
   "metadata": {},
   "outputs": [],
   "source": [
    "con.execute(\"DROP TABLE IF EXISTS datamart\")\n",
    "con.execute(query)\n",
    "con.commit()"
   ]
  },
  {
   "cell_type": "code",
   "execution_count": 7,
   "id": "ee8d2212-da44-446b-bc3d-2f6e022636f6",
   "metadata": {},
   "outputs": [],
   "source": [
    "datamart = pd.read_sql('SELECT * FROM datamart;', con, parse_dates=['first_commit_ts', 'first_view_ts'])"
   ]
  },
  {
   "cell_type": "code",
   "execution_count": 17,
   "id": "bfaf255c-d454-42a1-b580-c71e790d261d",
   "metadata": {},
   "outputs": [
    {
     "data": {
      "text/plain": [
       "uid                140\n",
       "labname            140\n",
       "first_commit_ts    140\n",
       "first_view_ts       59\n",
       "dtype: int64"
      ]
     },
     "execution_count": 17,
     "metadata": {},
     "output_type": "execute_result"
    }
   ],
   "source": [
    "datamart.count()"
   ]
  },
  {
   "cell_type": "markdown",
   "id": "8e900e72-7128-47c7-bc6d-0e5a3dd78f1f",
   "metadata": {},
   "source": [
    "## 3. Using Pandas methods, create two dataframes: test and control."
   ]
  },
  {
   "cell_type": "code",
   "execution_count": 9,
   "id": "b00b83ec-4159-4749-9041-25d7c10de127",
   "metadata": {},
   "outputs": [
    {
     "data": {
      "text/plain": [
       "uid                59\n",
       "labname            59\n",
       "first_commit_ts    59\n",
       "first_view_ts      59\n",
       "dtype: int64"
      ]
     },
     "execution_count": 9,
     "metadata": {},
     "output_type": "execute_result"
    }
   ],
   "source": [
    "test = datamart[datamart['first_view_ts'].notna()].copy()\n",
    "test.count()"
   ]
  },
  {
   "cell_type": "code",
   "execution_count": 10,
   "id": "49eceb35-6af3-45a7-b3b0-3f7ebfa75faf",
   "metadata": {},
   "outputs": [
    {
     "data": {
      "text/plain": [
       "0"
      ]
     },
     "execution_count": 10,
     "metadata": {},
     "output_type": "execute_result"
    }
   ],
   "source": [
    "test['first_view_ts'].isnull().sum().item()"
   ]
  },
  {
   "cell_type": "code",
   "execution_count": 11,
   "id": "30e6bf5e-f193-4e7f-906a-229928bb367c",
   "metadata": {},
   "outputs": [
    {
     "data": {
      "text/plain": [
       "uid                81\n",
       "labname            81\n",
       "first_commit_ts    81\n",
       "first_view_ts       0\n",
       "dtype: int64"
      ]
     },
     "execution_count": 11,
     "metadata": {},
     "output_type": "execute_result"
    }
   ],
   "source": [
    "control = datamart[datamart['first_view_ts'].isna()].copy()\n",
    "control.count()"
   ]
  },
  {
   "cell_type": "code",
   "execution_count": 12,
   "id": "20e503a9-70e7-47a9-bea2-abec51a6ff2c",
   "metadata": {},
   "outputs": [
    {
     "data": {
      "text/plain": [
       "0"
      ]
     },
     "execution_count": 12,
     "metadata": {},
     "output_type": "execute_result"
    }
   ],
   "source": [
    "control['first_view_ts'].notnull().sum().item()"
   ]
  },
  {
   "cell_type": "code",
   "execution_count": 13,
   "id": "cb30c167-cd34-4024-a090-efe8109e8e61",
   "metadata": {},
   "outputs": [
    {
     "data": {
      "text/plain": [
       "Timestamp('2020-04-27 00:40:05.761783552')"
      ]
     },
     "execution_count": 13,
     "metadata": {},
     "output_type": "execute_result"
    }
   ],
   "source": [
    "mean_time = test['first_view_ts'].mean()\n",
    "mean_time"
   ]
  },
  {
   "cell_type": "code",
   "execution_count": 14,
   "id": "99033a7c-ad63-4d38-8922-682c30b4f7db",
   "metadata": {},
   "outputs": [
    {
     "data": {
      "text/html": [
       "<div>\n",
       "<style scoped>\n",
       "    .dataframe tbody tr th:only-of-type {\n",
       "        vertical-align: middle;\n",
       "    }\n",
       "\n",
       "    .dataframe tbody tr th {\n",
       "        vertical-align: top;\n",
       "    }\n",
       "\n",
       "    .dataframe thead th {\n",
       "        text-align: right;\n",
       "    }\n",
       "</style>\n",
       "<table border=\"1\" class=\"dataframe\">\n",
       "  <thead>\n",
       "    <tr style=\"text-align: right;\">\n",
       "      <th></th>\n",
       "      <th>uid</th>\n",
       "      <th>labname</th>\n",
       "      <th>first_commit_ts</th>\n",
       "      <th>first_view_ts</th>\n",
       "    </tr>\n",
       "  </thead>\n",
       "  <tbody>\n",
       "    <tr>\n",
       "      <th>0</th>\n",
       "      <td>user_4</td>\n",
       "      <td>project1</td>\n",
       "      <td>2020-04-17 05:19:02.744528</td>\n",
       "      <td>2020-04-27 00:40:05.761783552</td>\n",
       "    </tr>\n",
       "    <tr>\n",
       "      <th>1</th>\n",
       "      <td>user_4</td>\n",
       "      <td>laba04</td>\n",
       "      <td>2020-04-17 11:33:17.366400</td>\n",
       "      <td>2020-04-27 00:40:05.761783552</td>\n",
       "    </tr>\n",
       "    <tr>\n",
       "      <th>2</th>\n",
       "      <td>user_4</td>\n",
       "      <td>laba04s</td>\n",
       "      <td>2020-04-17 11:48:41.992466</td>\n",
       "      <td>2020-04-27 00:40:05.761783552</td>\n",
       "    </tr>\n",
       "    <tr>\n",
       "      <th>5</th>\n",
       "      <td>user_2</td>\n",
       "      <td>laba04</td>\n",
       "      <td>2020-04-18 13:42:35.482008</td>\n",
       "      <td>2020-04-27 00:40:05.761783552</td>\n",
       "    </tr>\n",
       "    <tr>\n",
       "      <th>6</th>\n",
       "      <td>user_2</td>\n",
       "      <td>laba04s</td>\n",
       "      <td>2020-04-18 13:51:22.291271</td>\n",
       "      <td>2020-04-27 00:40:05.761783552</td>\n",
       "    </tr>\n",
       "  </tbody>\n",
       "</table>\n",
       "</div>"
      ],
      "text/plain": [
       "      uid   labname            first_commit_ts                 first_view_ts\n",
       "0  user_4  project1 2020-04-17 05:19:02.744528 2020-04-27 00:40:05.761783552\n",
       "1  user_4    laba04 2020-04-17 11:33:17.366400 2020-04-27 00:40:05.761783552\n",
       "2  user_4   laba04s 2020-04-17 11:48:41.992466 2020-04-27 00:40:05.761783552\n",
       "5  user_2    laba04 2020-04-18 13:42:35.482008 2020-04-27 00:40:05.761783552\n",
       "6  user_2   laba04s 2020-04-18 13:51:22.291271 2020-04-27 00:40:05.761783552"
      ]
     },
     "execution_count": 14,
     "metadata": {},
     "output_type": "execute_result"
    }
   ],
   "source": [
    "control['first_view_ts'] = control['first_view_ts'].fillna(mean_time)\n",
    "control.head()"
   ]
  },
  {
   "cell_type": "code",
   "execution_count": 15,
   "id": "69b50a8d-b328-44af-a904-c3b79bf2aa22",
   "metadata": {},
   "outputs": [
    {
     "data": {
      "text/plain": [
       "81"
      ]
     },
     "execution_count": 15,
     "metadata": {},
     "output_type": "execute_result"
    }
   ],
   "source": [
    "test.to_sql('test', con, if_exists='replace', index=False)\n",
    "control.to_sql('control', con, if_exists='replace', index=False)"
   ]
  },
  {
   "cell_type": "code",
   "execution_count": 16,
   "id": "f0b086de-356a-43c1-bf08-0c8c95ba4069",
   "metadata": {},
   "outputs": [],
   "source": [
    "con.close()"
   ]
  }
 ],
 "metadata": {
  "kernelspec": {
   "display_name": "Python 3 (ipykernel)",
   "language": "python",
   "name": "python3"
  },
  "language_info": {
   "codemirror_mode": {
    "name": "ipython",
    "version": 3
   },
   "file_extension": ".py",
   "mimetype": "text/x-python",
   "name": "python",
   "nbconvert_exporter": "python",
   "pygments_lexer": "ipython3",
   "version": "3.12.4"
  }
 },
 "nbformat": 4,
 "nbformat_minor": 5
}
