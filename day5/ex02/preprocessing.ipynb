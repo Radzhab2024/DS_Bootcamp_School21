{
 "cells": [
  {
   "cell_type": "code",
   "id": "f281f363-99a2-496d-b5ef-2c69925e83cf",
   "metadata": {
    "ExecuteTime": {
     "end_time": "2025-04-12T17:01:41.606477Z",
     "start_time": "2025-04-12T17:01:41.044310Z"
    }
   },
   "source": [
    "import pandas as pd"
   ],
   "outputs": [],
   "execution_count": 1
  },
  {
   "cell_type": "markdown",
   "id": "01cfa8d7-c9d3-490b-bf6c-a250b0bf3f6b",
   "metadata": {},
   "source": [
    "## 1. Открытие и чтение CSV-файла, назначие столбца ID в качестве индекса."
   ]
  },
  {
   "cell_type": "code",
   "id": "c75d5c1b-bfc3-494e-9110-269edc661ab6",
   "metadata": {
    "ExecuteTime": {
     "end_time": "2025-04-12T17:01:41.643436Z",
     "start_time": "2025-04-12T17:01:41.613497Z"
    }
   },
   "source": [
    "df = pd.read_csv(\n",
    "    '../../data/auto.csv',\n",
    "    index_col= 'ID',)\n",
    "df.tail()"
   ],
   "outputs": [
    {
     "data": {
      "text/plain": [
       "        CarNumber    Make_n_model  Refund    Fines  History\n",
       "ID                                                         \n",
       "926  Y163O8161RUS      Ford Focus     2.0   1600.0      NaN\n",
       "927  M0309X197RUS      Ford Focus     1.0  22300.0      NaN\n",
       "928  O673E8197RUS      Ford Focus     2.0    600.0      NaN\n",
       "929  8610T8154RUS      Ford Focus     1.0   2000.0      NaN\n",
       "930  H419XE197RUS  Toyota Corolla     2.0      NaN      2.0"
      ],
      "text/html": [
       "<div>\n",
       "<style scoped>\n",
       "    .dataframe tbody tr th:only-of-type {\n",
       "        vertical-align: middle;\n",
       "    }\n",
       "\n",
       "    .dataframe tbody tr th {\n",
       "        vertical-align: top;\n",
       "    }\n",
       "\n",
       "    .dataframe thead th {\n",
       "        text-align: right;\n",
       "    }\n",
       "</style>\n",
       "<table border=\"1\" class=\"dataframe\">\n",
       "  <thead>\n",
       "    <tr style=\"text-align: right;\">\n",
       "      <th></th>\n",
       "      <th>CarNumber</th>\n",
       "      <th>Make_n_model</th>\n",
       "      <th>Refund</th>\n",
       "      <th>Fines</th>\n",
       "      <th>History</th>\n",
       "    </tr>\n",
       "    <tr>\n",
       "      <th>ID</th>\n",
       "      <th></th>\n",
       "      <th></th>\n",
       "      <th></th>\n",
       "      <th></th>\n",
       "      <th></th>\n",
       "    </tr>\n",
       "  </thead>\n",
       "  <tbody>\n",
       "    <tr>\n",
       "      <th>926</th>\n",
       "      <td>Y163O8161RUS</td>\n",
       "      <td>Ford Focus</td>\n",
       "      <td>2.0</td>\n",
       "      <td>1600.0</td>\n",
       "      <td>NaN</td>\n",
       "    </tr>\n",
       "    <tr>\n",
       "      <th>927</th>\n",
       "      <td>M0309X197RUS</td>\n",
       "      <td>Ford Focus</td>\n",
       "      <td>1.0</td>\n",
       "      <td>22300.0</td>\n",
       "      <td>NaN</td>\n",
       "    </tr>\n",
       "    <tr>\n",
       "      <th>928</th>\n",
       "      <td>O673E8197RUS</td>\n",
       "      <td>Ford Focus</td>\n",
       "      <td>2.0</td>\n",
       "      <td>600.0</td>\n",
       "      <td>NaN</td>\n",
       "    </tr>\n",
       "    <tr>\n",
       "      <th>929</th>\n",
       "      <td>8610T8154RUS</td>\n",
       "      <td>Ford Focus</td>\n",
       "      <td>1.0</td>\n",
       "      <td>2000.0</td>\n",
       "      <td>NaN</td>\n",
       "    </tr>\n",
       "    <tr>\n",
       "      <th>930</th>\n",
       "      <td>H419XE197RUS</td>\n",
       "      <td>Toyota Corolla</td>\n",
       "      <td>2.0</td>\n",
       "      <td>NaN</td>\n",
       "      <td>2.0</td>\n",
       "    </tr>\n",
       "  </tbody>\n",
       "</table>\n",
       "</div>"
      ]
     },
     "execution_count": 2,
     "metadata": {},
     "output_type": "execute_result"
    }
   ],
   "execution_count": 2
  },
  {
   "cell_type": "markdown",
   "id": "17bfeefc-2f7e-4f76-9b50-dca2f77310fe",
   "metadata": {},
   "source": [
    "## 2. Вычисление количества наблюдений, используя count()."
   ]
  },
  {
   "cell_type": "code",
   "id": "51baa09d-165c-49d0-acb5-e7b4275f833c",
   "metadata": {
    "ExecuteTime": {
     "end_time": "2025-04-12T17:01:41.929925Z",
     "start_time": "2025-04-12T17:01:41.921484Z"
    }
   },
   "source": [
    "df.count()"
   ],
   "outputs": [
    {
     "data": {
      "text/plain": [
       "CarNumber       931\n",
       "Make_n_model    931\n",
       "Refund          914\n",
       "Fines           869\n",
       "History          82\n",
       "dtype: int64"
      ]
     },
     "execution_count": 3,
     "metadata": {},
     "output_type": "execute_result"
    }
   ],
   "execution_count": 3
  },
  {
   "cell_type": "markdown",
   "id": "b038b8d9-6b07-4668-8d9f-38148dadbeb8",
   "metadata": {},
   "source": [
    "## 3. Очистка от дубликатов в столбцах CarNumber, Make_n_model, Fines."
   ]
  },
  {
   "cell_type": "code",
   "id": "a146816b-82ff-4bf7-93c2-37088a651539",
   "metadata": {
    "ExecuteTime": {
     "end_time": "2025-04-12T17:01:42.015105Z",
     "start_time": "2025-04-12T17:01:42.005730Z"
    }
   },
   "source": [
    "df.drop_duplicates(subset=['CarNumber', 'Make_n_model', 'Fines'], keep='last', inplace=True)"
   ],
   "outputs": [],
   "execution_count": 4
  },
  {
   "cell_type": "code",
   "id": "f1bd98d2-ea8d-4ef1-82d4-e1dbe8664173",
   "metadata": {
    "ExecuteTime": {
     "end_time": "2025-04-12T17:01:42.088236Z",
     "start_time": "2025-04-12T17:01:42.077119Z"
    }
   },
   "source": [
    "df.count()"
   ],
   "outputs": [
    {
     "data": {
      "text/plain": [
       "CarNumber       725\n",
       "Make_n_model    725\n",
       "Refund          713\n",
       "Fines           665\n",
       "History          65\n",
       "dtype: int64"
      ]
     },
     "execution_count": 5,
     "metadata": {},
     "output_type": "execute_result"
    }
   ],
   "execution_count": 5
  },
  {
   "cell_type": "markdown",
   "id": "b0b83ffc-e0e3-48cb-aebf-f21972849d78",
   "metadata": {},
   "source": [
    "## 4. Работа с отстутствующими значениями."
   ]
  },
  {
   "cell_type": "code",
   "id": "b77c2aaa-3617-4f02-934e-1bcaf410f31e",
   "metadata": {
    "ExecuteTime": {
     "end_time": "2025-04-12T17:01:42.183928Z",
     "start_time": "2025-04-12T17:01:42.176553Z"
    }
   },
   "source": [
    "df.isna().sum()"
   ],
   "outputs": [
    {
     "data": {
      "text/plain": [
       "CarNumber         0\n",
       "Make_n_model      0\n",
       "Refund           12\n",
       "Fines            60\n",
       "History         660\n",
       "dtype: int64"
      ]
     },
     "execution_count": 6,
     "metadata": {},
     "output_type": "execute_result"
    }
   ],
   "execution_count": 6
  },
  {
   "cell_type": "code",
   "id": "ea7574be-0fac-4dee-9fb5-5c62cd482a7d",
   "metadata": {
    "ExecuteTime": {
     "end_time": "2025-04-12T17:01:42.281149Z",
     "start_time": "2025-04-12T17:01:42.274872Z"
    }
   },
   "source": [
    "df.dropna(thresh= len(df) - 500, axis=1, inplace=True)"
   ],
   "outputs": [],
   "execution_count": 7
  },
  {
   "cell_type": "code",
   "id": "2b34cc53-8cb7-443f-9c51-b27ad6ca20ae",
   "metadata": {
    "ExecuteTime": {
     "end_time": "2025-04-12T17:01:42.390427Z",
     "start_time": "2025-04-12T17:01:42.369260Z"
    }
   },
   "source": [
    "df.isna().sum()"
   ],
   "outputs": [
    {
     "data": {
      "text/plain": [
       "CarNumber        0\n",
       "Make_n_model     0\n",
       "Refund          12\n",
       "Fines           60\n",
       "dtype: int64"
      ]
     },
     "execution_count": 8,
     "metadata": {},
     "output_type": "execute_result"
    }
   ],
   "execution_count": 8
  },
  {
   "cell_type": "code",
   "id": "617c746a-4395-4f23-9710-81fb12704e3a",
   "metadata": {
    "ExecuteTime": {
     "end_time": "2025-04-12T17:01:42.572245Z",
     "start_time": "2025-04-12T17:01:42.566028Z"
    }
   },
   "source": [
    "df['Refund'] = df['Refund'].ffill()"
   ],
   "outputs": [],
   "execution_count": 9
  },
  {
   "cell_type": "code",
   "id": "a5f09471-fab2-4eef-9469-8b52c42958ff",
   "metadata": {
    "ExecuteTime": {
     "end_time": "2025-04-12T17:01:42.670193Z",
     "start_time": "2025-04-12T17:01:42.662181Z"
    }
   },
   "source": [
    "df.isna().sum()"
   ],
   "outputs": [
    {
     "data": {
      "text/plain": [
       "CarNumber        0\n",
       "Make_n_model     0\n",
       "Refund           0\n",
       "Fines           60\n",
       "dtype: int64"
      ]
     },
     "execution_count": 10,
     "metadata": {},
     "output_type": "execute_result"
    }
   ],
   "execution_count": 10
  },
  {
   "cell_type": "code",
   "id": "4ba29e50-0013-4cd2-b7a8-b3f0be386db3",
   "metadata": {
    "ExecuteTime": {
     "end_time": "2025-04-12T17:01:42.858167Z",
     "start_time": "2025-04-12T17:01:42.850777Z"
    }
   },
   "source": [
    "df[\"Fines\"].fillna(df[\"Fines\"].mean(skipna=True), inplace=True)"
   ],
   "outputs": [
    {
     "name": "stderr",
     "output_type": "stream",
     "text": [
      "C:\\Users\\шрш\\AppData\\Local\\Temp\\ipykernel_3052\\2970486277.py:1: FutureWarning: A value is trying to be set on a copy of a DataFrame or Series through chained assignment using an inplace method.\n",
      "The behavior will change in pandas 3.0. This inplace method will never work because the intermediate object on which we are setting values always behaves as a copy.\n",
      "\n",
      "For example, when doing 'df[col].method(value, inplace=True)', try using 'df.method({col: value}, inplace=True)' or df[col] = df[col].method(value) instead, to perform the operation inplace on the original object.\n",
      "\n",
      "\n",
      "  df[\"Fines\"].fillna(df[\"Fines\"].mean(skipna=True), inplace=True)\n"
     ]
    }
   ],
   "execution_count": 11
  },
  {
   "cell_type": "code",
   "id": "944e1499-0e32-4c61-b508-f6102765f8d7",
   "metadata": {
    "ExecuteTime": {
     "end_time": "2025-04-12T17:01:43.043406Z",
     "start_time": "2025-04-12T17:01:43.030728Z"
    }
   },
   "source": [
    "df.isna().sum()"
   ],
   "outputs": [
    {
     "data": {
      "text/plain": [
       "CarNumber       0\n",
       "Make_n_model    0\n",
       "Refund          0\n",
       "Fines           0\n",
       "dtype: int64"
      ]
     },
     "execution_count": 12,
     "metadata": {},
     "output_type": "execute_result"
    }
   ],
   "execution_count": 12
  },
  {
   "cell_type": "markdown",
   "id": "43c93daa-3790-4c01-8043-d300a84c6cc6",
   "metadata": {},
   "source": [
    "## 5. Разделение и анализ make и model."
   ]
  },
  {
   "cell_type": "code",
   "id": "aad08c17-0daa-4fea-94df-d1fc51ede59a",
   "metadata": {
    "ExecuteTime": {
     "end_time": "2025-04-12T17:01:43.188294Z",
     "start_time": "2025-04-12T17:01:43.181278Z"
    }
   },
   "source": [
    "df['Make'] = df['Make_n_model'].apply(lambda x: x.split(' ')[0])\n",
    "df['Model'] = df['Make_n_model'].apply(lambda x: ' '.join(x.split(' ')[1:]))"
   ],
   "outputs": [],
   "execution_count": 13
  },
  {
   "cell_type": "code",
   "id": "b338a2a9-f6bf-4368-a5ba-e535c9c2986f",
   "metadata": {
    "ExecuteTime": {
     "end_time": "2025-04-12T17:01:43.279271Z",
     "start_time": "2025-04-12T17:01:43.273520Z"
    }
   },
   "source": [
    "df.drop(columns=['Make_n_model'], inplace=True)"
   ],
   "outputs": [],
   "execution_count": 14
  },
  {
   "cell_type": "code",
   "id": "69903e27-74e9-447d-b721-81c0d6cea79e",
   "metadata": {
    "ExecuteTime": {
     "end_time": "2025-04-12T17:01:43.371314Z",
     "start_time": "2025-04-12T17:01:43.363056Z"
    }
   },
   "source": [
    "df.to_json('auto.json', orient='records', indent=4)"
   ],
   "outputs": [],
   "execution_count": 15
  },
  {
   "cell_type": "code",
   "id": "e70b5d8a-46de-489c-bebf-5543e77c4495",
   "metadata": {
    "ExecuteTime": {
     "end_time": "2025-04-12T17:01:56.995818Z",
     "start_time": "2025-04-12T17:01:56.971949Z"
    }
   },
   "source": [
    "new_df = pd.read_json('auto.json', orient='reacords')\n",
    "new_df"
   ],
   "outputs": [
    {
     "data": {
      "text/plain": [
       "        CarNumber  Refund         Fines    Make    Model\n",
       "0    Y163O8161RUS       2   3200.000000    Ford    Focus\n",
       "1     E432XX77RUS       1   6500.000000  Toyota    Camry\n",
       "2     7184TT36RUS       1   2100.000000    Ford    Focus\n",
       "3    X582HE161RUS       2   2000.000000    Ford    Focus\n",
       "4    92918M178RUS       1   5700.000000    Ford    Focus\n",
       "..            ...     ...           ...     ...      ...\n",
       "720  Y163O8161RUS       2   1600.000000    Ford    Focus\n",
       "721  M0309X197RUS       1  22300.000000    Ford    Focus\n",
       "722  O673E8197RUS       2    600.000000    Ford    Focus\n",
       "723  8610T8154RUS       1   2000.000000    Ford    Focus\n",
       "724  H419XE197RUS       2   8594.586466  Toyota  Corolla\n",
       "\n",
       "[725 rows x 5 columns]"
      ],
      "text/html": [
       "<div>\n",
       "<style scoped>\n",
       "    .dataframe tbody tr th:only-of-type {\n",
       "        vertical-align: middle;\n",
       "    }\n",
       "\n",
       "    .dataframe tbody tr th {\n",
       "        vertical-align: top;\n",
       "    }\n",
       "\n",
       "    .dataframe thead th {\n",
       "        text-align: right;\n",
       "    }\n",
       "</style>\n",
       "<table border=\"1\" class=\"dataframe\">\n",
       "  <thead>\n",
       "    <tr style=\"text-align: right;\">\n",
       "      <th></th>\n",
       "      <th>CarNumber</th>\n",
       "      <th>Refund</th>\n",
       "      <th>Fines</th>\n",
       "      <th>Make</th>\n",
       "      <th>Model</th>\n",
       "    </tr>\n",
       "  </thead>\n",
       "  <tbody>\n",
       "    <tr>\n",
       "      <th>0</th>\n",
       "      <td>Y163O8161RUS</td>\n",
       "      <td>2</td>\n",
       "      <td>3200.000000</td>\n",
       "      <td>Ford</td>\n",
       "      <td>Focus</td>\n",
       "    </tr>\n",
       "    <tr>\n",
       "      <th>1</th>\n",
       "      <td>E432XX77RUS</td>\n",
       "      <td>1</td>\n",
       "      <td>6500.000000</td>\n",
       "      <td>Toyota</td>\n",
       "      <td>Camry</td>\n",
       "    </tr>\n",
       "    <tr>\n",
       "      <th>2</th>\n",
       "      <td>7184TT36RUS</td>\n",
       "      <td>1</td>\n",
       "      <td>2100.000000</td>\n",
       "      <td>Ford</td>\n",
       "      <td>Focus</td>\n",
       "    </tr>\n",
       "    <tr>\n",
       "      <th>3</th>\n",
       "      <td>X582HE161RUS</td>\n",
       "      <td>2</td>\n",
       "      <td>2000.000000</td>\n",
       "      <td>Ford</td>\n",
       "      <td>Focus</td>\n",
       "    </tr>\n",
       "    <tr>\n",
       "      <th>4</th>\n",
       "      <td>92918M178RUS</td>\n",
       "      <td>1</td>\n",
       "      <td>5700.000000</td>\n",
       "      <td>Ford</td>\n",
       "      <td>Focus</td>\n",
       "    </tr>\n",
       "    <tr>\n",
       "      <th>...</th>\n",
       "      <td>...</td>\n",
       "      <td>...</td>\n",
       "      <td>...</td>\n",
       "      <td>...</td>\n",
       "      <td>...</td>\n",
       "    </tr>\n",
       "    <tr>\n",
       "      <th>720</th>\n",
       "      <td>Y163O8161RUS</td>\n",
       "      <td>2</td>\n",
       "      <td>1600.000000</td>\n",
       "      <td>Ford</td>\n",
       "      <td>Focus</td>\n",
       "    </tr>\n",
       "    <tr>\n",
       "      <th>721</th>\n",
       "      <td>M0309X197RUS</td>\n",
       "      <td>1</td>\n",
       "      <td>22300.000000</td>\n",
       "      <td>Ford</td>\n",
       "      <td>Focus</td>\n",
       "    </tr>\n",
       "    <tr>\n",
       "      <th>722</th>\n",
       "      <td>O673E8197RUS</td>\n",
       "      <td>2</td>\n",
       "      <td>600.000000</td>\n",
       "      <td>Ford</td>\n",
       "      <td>Focus</td>\n",
       "    </tr>\n",
       "    <tr>\n",
       "      <th>723</th>\n",
       "      <td>8610T8154RUS</td>\n",
       "      <td>1</td>\n",
       "      <td>2000.000000</td>\n",
       "      <td>Ford</td>\n",
       "      <td>Focus</td>\n",
       "    </tr>\n",
       "    <tr>\n",
       "      <th>724</th>\n",
       "      <td>H419XE197RUS</td>\n",
       "      <td>2</td>\n",
       "      <td>8594.586466</td>\n",
       "      <td>Toyota</td>\n",
       "      <td>Corolla</td>\n",
       "    </tr>\n",
       "  </tbody>\n",
       "</table>\n",
       "<p>725 rows × 5 columns</p>\n",
       "</div>"
      ]
     },
     "execution_count": 17,
     "metadata": {},
     "output_type": "execute_result"
    }
   ],
   "execution_count": 17
  },
  {
   "cell_type": "code",
   "execution_count": null,
   "id": "ac8d89ee-c6e5-4652-819e-5658abcd7136",
   "metadata": {},
   "outputs": [],
   "source": []
  }
 ],
 "metadata": {
  "kernelspec": {
   "display_name": "Python 3 (ipykernel)",
   "language": "python",
   "name": "python3"
  },
  "language_info": {
   "codemirror_mode": {
    "name": "ipython",
    "version": 3
   },
   "file_extension": ".py",
   "mimetype": "text/x-python",
   "name": "python",
   "nbconvert_exporter": "python",
   "pygments_lexer": "ipython3",
   "version": "3.12.4"
  }
 },
 "nbformat": 4,
 "nbformat_minor": 5
}
